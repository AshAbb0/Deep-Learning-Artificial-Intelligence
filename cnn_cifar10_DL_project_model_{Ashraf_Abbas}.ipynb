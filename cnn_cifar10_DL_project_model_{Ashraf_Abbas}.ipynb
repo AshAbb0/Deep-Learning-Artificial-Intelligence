{
  "cells": [
    {
      "cell_type": "markdown",
      "metadata": {
        "id": "dWY7kSPW9oJm"
      },
      "source": [
        "![Nuclio logo](https://nuclio.school/wp-content/uploads/2018/12/nucleoDS-newBlack.png)"
      ]
    },
    {
      "cell_type": "markdown",
      "metadata": {
        "id": "1-EBCNsd1N9J"
      },
      "source": [
        "INTRODUCTION TO THE ASSIGNMENT\n",
        "\n",
        "## Our objective is to train a neural network using MNIST dataset to get accuracy of at least 80% on validation data set.\n",
        "\n",
        "## First it is worth acquiring, understanding and preparing the MNIST dataset before using it.\n",
        "\n",
        "## I will Use the keras API integrated within TensorFlow API library\n",
        "\n",
        "## Our tools are dataset of samples(inputs) and corresponding labels(targets) from the samples\n",
        "## Example: Training image classification for each sample our label will be corresponding to that image sample\n",
        "\n",
        "## Our goal is to train neural network thus we need to make sure that our data is in a format that our neural network can accept\n",
        "\n",
        "## Convolutional neural networks are able to detect patterns in images.With each convolutional layer, we need to specify the number of filters (The number of filters determines the number of output channels) the layer should have. These filters are actually what detect the patterns( edges, shapes,textures,curves,objects,colors). Deeper the network goes, the more sophisticated the filters become\n",
        "\n",
        "## Model for this assignment will be \"Sequential Model\" - from keras API integrated within TensorFlow\n",
        "\n",
        "## Sequential model receives data whenever we call fit function so we need to understand data format that fit function accepts.\n",
        "\n",
        "\n"
      ]
    },
    {
      "cell_type": "markdown",
      "metadata": {
        "id": "e5awq5ZU9oJn"
      },
      "source": [
        "## 1. Libraries\n",
        "\n",
        "To start, let's load those libraries that we need"
      ]
    },
    {
      "cell_type": "markdown",
      "metadata": {
        "id": "orwEHM6Q3BW9"
      },
      "source": [
        "## Data Preparation and Preprocessing"
      ]
    },
    {
      "cell_type": "code",
      "execution_count": 1,
      "metadata": {
        "id": "6e89W2u_9oJo"
      },
      "outputs": [],
      "source": [
        "import tensorflow as tf\n",
        "tf.config.run_functions_eagerly(True)\n",
        "tf.data.experimental.enable_debug_mode()\n",
        "from tensorflow import keras as ks\n",
        "from tensorflow.keras import Model\n",
        "from keras.utils import to_categorical\n",
        "from tensorflow.keras import layers\n",
        "from tensorflow.keras import Sequential\n",
        "from tensorflow.keras.losses import mean_squared_error\n",
        "from tensorflow.keras.models import Sequential\n",
        "from tensorflow.keras.metrics import mean_squared_error\n",
        "from tensorflow.keras.layers import MaxPooling2D\n",
        "from tensorflow.keras.layers import Dense, InputLayer, Multiply\n",
        "from tensorflow.keras.layers import Flatten\n",
        "from tensorflow.keras.layers import Conv2D\n",
        "from keras.optimizers import SGD\n",
        "from keras.optimizers import Adam\n",
        "from keras.preprocessing.image import ImageDataGenerator\n",
        "from tensorflow.keras.callbacks import EarlyStopping\n",
        "from keras.layers import Dropout\n",
        "from keras.layers import BatchNormalization\n",
        "from matplotlib import pyplot as plt\n",
        "import numpy as np\n",
        "import time\n",
        "import datetime"
      ]
    },
    {
      "cell_type": "markdown",
      "metadata": {
        "id": "CyyHynvwOwSU"
      },
      "source": [
        "## 2. We prepare the data (Load Dataset)\n",
        "\n",
        "We load the CIFAR10 data from the datasets directly from the Keras libraries. These are already ready in train and test\n",
        "\n",
        "**Important detail:**\n",
        "> The neural network requires that the inputs be real numbers, and we will do it by forcing the division of the values ​​within the 32x32 matrices (which have values​​ from 0 to 255) by 255.0 (a real)"
      ]
    },
    {
      "cell_type": "code",
      "execution_count": 2,
      "metadata": {
        "colab": {
          "base_uri": "https://localhost:8080/"
        },
        "id": "oPCSmgmMO_Im",
        "outputId": "20da0ded-55d6-4da1-8005-7a4fc9d56dc7"
      },
      "outputs": [
        {
          "output_type": "stream",
          "name": "stdout",
          "text": [
            "Downloading data from https://www.cs.toronto.edu/~kriz/cifar-10-python.tar.gz\n",
            "170498071/170498071 [==============================] - 2s 0us/step\n"
          ]
        }
      ],
      "source": [
        "cifar10 = ks.datasets.cifar10\n",
        "\n",
        "(x_train, y_train), (x_test, y_test) = cifar10.load_data()\n",
        "\n"
      ]
    },
    {
      "cell_type": "markdown",
      "metadata": {
        "id": "W-fKmXeOO3FU"
      },
      "source": [
        "## Understand the MNIST dataset\n",
        "## In Kears, the MNIST dataset is loaded with train and test sets. So, we do not need to create train and test parts manually"
      ]
    },
    {
      "cell_type": "markdown",
      "metadata": {
        "id": "j6cmLX7mPJ2i"
      },
      "source": [
        "## The train and test labels are one-dimensional. They contain the correspondent labels for 10 categories (0 to 9)"
      ]
    },
    {
      "cell_type": "markdown",
      "metadata": {
        "id": "mkL5juGlPUSv"
      },
      "source": [
        "## Prepare Pixel Data\n",
        "We know that the pixel values for each image in the dataset are unsigned integers in the range between no color and full color, or 0 and 255.\n",
        "\n",
        "We do not know the best way to scale the pixel values for modeling, but we know that some scaling will be required.\n",
        "\n",
        "A good starting point is to normalize the pixel values, e.g. rescale them to the range [0,1]. This involves first converting the data type from unsigned integers to floats, then dividing the pixel values by the maximum value."
      ]
    },
    {
      "cell_type": "code",
      "execution_count": 3,
      "metadata": {
        "id": "bNUHJbKDPVNF"
      },
      "outputs": [],
      "source": [
        "# scale pixels\n",
        "def prep_pixels(train, test):\n",
        " # convert from integers to floats\n",
        " x_train = train.astype('float32')\n",
        " x_test_labels = test.astype('float32')\n",
        " # normalize to range 0-1\n",
        " x_train = x_train / 255.0\n",
        " x_test = x_test/ 255.0\n",
        " # return normalized images\n",
        " return x_train, x_test"
      ]
    },
    {
      "cell_type": "code",
      "execution_count": 4,
      "metadata": {
        "colab": {
          "base_uri": "https://localhost:8080/"
        },
        "id": "cSnWPSKKPggv",
        "outputId": "768128db-b9c5-4267-f91b-022d12ec215f"
      },
      "outputs": [
        {
          "output_type": "stream",
          "name": "stdout",
          "text": [
            "Number of labels: 10\n"
          ]
        }
      ],
      "source": [
        "cifar10_labels = [\n",
        "'airplane', # id 0\n",
        "'automobile',\n",
        "'bird',\n",
        "'cat',\n",
        "'deer',\n",
        "'dog',\n",
        "'frog',\n",
        "'horse',\n",
        "'ship',\n",
        "'truck',\n",
        "]\n",
        "\n",
        "print('Number of labels: %s' % len(cifar10_labels))"
      ]
    },
    {
      "cell_type": "markdown",
      "metadata": {
        "id": "DNdupXjNPpMF"
      },
      "source": [
        "## Getting the shape of the data\n"
      ]
    },
    {
      "cell_type": "code",
      "execution_count": 5,
      "metadata": {
        "colab": {
          "base_uri": "https://localhost:8080/"
        },
        "id": "hdNRVIziPyXL",
        "outputId": "2e18c38a-e1c6-4b82-c828-ed886e9a0d0b"
      },
      "outputs": [
        {
          "output_type": "execute_result",
          "data": {
            "text/plain": [
              "(32, 32, 3)"
            ]
          },
          "metadata": {},
          "execution_count": 5
        }
      ],
      "source": [
        "#Get Shape of first train image\n",
        "x_train[0].shape"
      ]
    },
    {
      "cell_type": "code",
      "execution_count": 6,
      "metadata": {
        "colab": {
          "base_uri": "https://localhost:8080/"
        },
        "id": "2QZhNARjPzA8",
        "outputId": "ae3c6add-80ae-4574-ecc0-688211ae5984"
      },
      "outputs": [
        {
          "output_type": "execute_result",
          "data": {
            "text/plain": [
              "(50000, 32, 32, 3)"
            ]
          },
          "metadata": {},
          "execution_count": 6
        }
      ],
      "source": [
        "x_train.shape"
      ]
    },
    {
      "cell_type": "code",
      "execution_count": 7,
      "metadata": {
        "colab": {
          "base_uri": "https://localhost:8080/"
        },
        "id": "cifehPq7P8AI",
        "outputId": "916c8a28-1fe4-47a1-e167-95197cc877eb"
      },
      "outputs": [
        {
          "output_type": "execute_result",
          "data": {
            "text/plain": [
              "(50000, 1)"
            ]
          },
          "metadata": {},
          "execution_count": 7
        }
      ],
      "source": [
        "y_train.shape"
      ]
    },
    {
      "cell_type": "code",
      "execution_count": 8,
      "metadata": {
        "colab": {
          "base_uri": "https://localhost:8080/"
        },
        "id": "AAnfIPXfQE8u",
        "outputId": "95323907-1249-4d28-e71b-740cdaed3458"
      },
      "outputs": [
        {
          "output_type": "execute_result",
          "data": {
            "text/plain": [
              "(10000, 32, 32, 3)"
            ]
          },
          "metadata": {},
          "execution_count": 8
        }
      ],
      "source": [
        "x_test.shape"
      ]
    },
    {
      "cell_type": "code",
      "execution_count": 9,
      "metadata": {
        "colab": {
          "base_uri": "https://localhost:8080/"
        },
        "id": "OEcETGUNQLJ4",
        "outputId": "060e918e-60f8-4902-bc56-e7a83fdfda1b"
      },
      "outputs": [
        {
          "output_type": "execute_result",
          "data": {
            "text/plain": [
              "(10000, 1)"
            ]
          },
          "metadata": {},
          "execution_count": 9
        }
      ],
      "source": [
        "y_test.shape"
      ]
    },
    {
      "cell_type": "markdown",
      "metadata": {
        "id": "TvCoX8mWQfjB"
      },
      "source": [
        "## Visualizing individual images\n",
        "## Visualize the first nine images in the MNIST train set\n",
        "\n",
        "## Let's print a sample of the images from the CIFAR10 dataset, to see if it looks anything like what we expect.\n",
        "\n",
        "## A plot of the first nine images in the dataset is  created. It is clear that the images are indeed very small compared to modern photographs; it can be challenging to see what exactly is represented in some of the images given the extremely low resolution.\n",
        "\n",
        "## This low resolution is likely the cause of the limited performance that top-of-the-line algorithms are able to achieve on the dataset."
      ]
    },
    {
      "cell_type": "code",
      "execution_count": 60,
      "metadata": {
        "id": "n6YCKQ65Qgzf",
        "colab": {
          "base_uri": "https://localhost:8080/",
          "height": 934
        },
        "outputId": "e30a33d3-20ad-40dd-e8aa-51c87aa6267a"
      },
      "outputs": [
        {
          "output_type": "stream",
          "name": "stdout",
          "text": [
            "Train: X=(40000, 32, 32, 3), y=(40000, 1)\n",
            "Test: X=(10000, 32, 32, 3), y=(10000, 1)\n"
          ]
        },
        {
          "output_type": "display_data",
          "data": {
            "text/plain": [
              "<Figure size 432x288 with 1 Axes>"
            ],
            "image/png": "[encoded data removed]"
          },
          "metadata": {
            "needs_background": "light"
          }
        },
        {
          "output_type": "display_data",
          "data": {
            "text/plain": [
              "<Figure size 432x288 with 1 Axes>"
            ],
            "image/png": "[encoded data removed]"
          },
          "metadata": {
            "needs_background": "light"
          }
        },
        {
          "output_type": "display_data",
          "data": {
            "text/plain": [
              "<Figure size 432x288 with 1 Axes>"
            ],
            "image/png": "[encoded data removed]"
          },
          "metadata": {
            "needs_background": "light"
          }
        },
        {
          "output_type": "display_data",
          "data": {
            "text/plain": [
              "<Figure size 432x288 with 1 Axes>"
            ],
            "image/png": "[encoded data removed]"
          },
          "metadata": {
            "needs_background": "light"
          }
        },
        {
          "output_type": "display_data",
          "data": {
            "text/plain": [
              "<Figure size 432x288 with 1 Axes>"
            ],
            "image/png": "[encoded data removed]"
          },
          "metadata": {
            "needs_background": "light"
          }
        },
        {
          "output_type": "display_data",
          "data": {
            "text/plain": [
              "<Figure size 432x288 with 1 Axes>"
            ],
            "image/png": "[encoded data removed]"
          },
          "metadata": {
            "needs_background": "light"
          }
        },
        {
          "output_type": "display_data",
          "data": {
            "text/plain": [
              "<Figure size 432x288 with 1 Axes>"
            ],
            "image/png": "[encoded data removed]"
          },
          "metadata": {
            "needs_background": "light"
          }
        },
        {
          "output_type": "display_data",
          "data": {
            "text/plain": [
              "<Figure size 432x288 with 1 Axes>"
            ],
            "image/png": "[encoded data removed]"
          },
          "metadata": {
            "needs_background": "light"
          }
        },
        {
          "output_type": "display_data",
          "data": {
            "text/plain": [
              "<Figure size 432x288 with 1 Axes>"
            ],
            "image/png": "[encoded data removed]"
          },
          "metadata": {
            "needs_background": "light"
          }
        }
      ],
      "source": [
        "# Lets print a sample of the images of MNIST\n",
        "\n",
        "print('Train: X=%s, y=%s' % (x_train.shape, y_train.shape))\n",
        "print('Test: X=%s, y=%s' % (x_test.shape, y_test.shape))\n",
        "\n",
        "for i in range(9):\n",
        " # define subplot\n",
        "    plt.subplot(330 + 1 + i)\n",
        " # plot raw pixel data\n",
        "    plt.imshow(x_train[i])\n",
        "# show the figure\n",
        "    plt.show()"
      ]
    },
    {
      "cell_type": "markdown",
      "metadata": {
        "id": "Wv87x4wMQv7H"
      },
      "source": [
        "## The (50000, 32, 32, 3) means the train set contains 50,000 images of 32 x 32 px. In other words, it is an array containing 50,000 matrices of 32 x 32 integer values pixels and color, with three channels. \n",
        "## The entire dataset contains 50,000 training samples (images) with 50,000 corresponding labels (targets or ground truths) and 10,000 testing samples (images) with 10,000 corresponding labels. "
      ]
    },
    {
      "cell_type": "markdown",
      "metadata": {
        "id": "aiOBaameQxJZ"
      },
      "source": [
        "## MNIST data representation in deep learning\n",
        "## A batch of grayscale images (e.g. the entire MNIST train set) can be represented using a three-dimensional (3D) NumPy array or a tensor. Here, we need an extra dimension to represent the number of images"
      ]
    },
    {
      "cell_type": "markdown",
      "metadata": {
        "id": "tXKy0FJxQ8uN"
      },
      "source": [
        "![image.png](data:image/png;base64,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)"
      ]
    },
    {
      "cell_type": "markdown",
      "metadata": {
        "id": "8ryDlwfCRI_w"
      },
      "source": [
        "It is better to use a separate validation dataset, e.g. by splitting the train dataset into train and validation sets (I will split train dataset into 40000 train and 10000 validation datasets).\n",
        "\n",
        "This will result in a trace of model evaluation scores on the train and test dataset each epoch that can be plotted later."
      ]
    },
    {
      "cell_type": "code",
      "execution_count": 10,
      "metadata": {
        "id": "f0zjB93DRKO4"
      },
      "outputs": [],
      "source": [
        "x_val = x_train[-10000:]\n",
        "y_val = y_train[-10000:]\n",
        "\n",
        "x_train = x_train[:-10000]\n",
        "y_train = y_train[:-10000]"
      ]
    },
    {
      "cell_type": "code",
      "execution_count": 11,
      "metadata": {
        "id": "wqXjwcyLRP3D",
        "colab": {
          "base_uri": "https://localhost:8080/"
        },
        "outputId": "48c7f9d1-2bba-4bf1-b262-7727d68f645f"
      },
      "outputs": [
        {
          "output_type": "stream",
          "name": "stdout",
          "text": [
            "Train: X=(40000, 32, 32, 3), y=(40000, 1)\n",
            "Test: X=(10000, 32, 32, 3), y=(10000, 1)\n",
            "Validation: X=(10000, 32, 32, 3), y=(10000, 1)\n"
          ]
        }
      ],
      "source": [
        "# We validate the result\n",
        "print('Train: X=%s, y=%s' % (x_train.shape, y_train.shape))\n",
        "print('Test: X=%s, y=%s' % (x_test.shape, y_test.shape))\n",
        "print('Validation: X=%s, y=%s' % (x_val.shape, y_val.shape))"
      ]
    },
    {
      "cell_type": "markdown",
      "metadata": {
        "id": "YOf7RFkdyJSz"
      },
      "source": [
        "\n",
        "## 3. Definition of the Assignment: Create Five neural network Models \n",
        "\n",
        "## Architecture of the network\n",
        "\n",
        "We build a simple neural network model for the MNIST data, which in summary are:\n",
        "- Input data: 32x32 pixel images with a gray channel (values ​​from 1 to 256, integers)\n",
        "- Output data (labels): we give each image a value from 0 to 9, a total of 10 classes\n",
        "\n",
        "<img src=\"https://3qeqpr26caki16dnhd19sv6by6v-wpengine.netdna-ssl.com/wp-content/uploads/2016/05/Examples-from-the-MNIST-dataset.png\">\n",
        "\n",
        "To assemble the architecture of the neural network, the method **.Sequential()** of Keras (from input to output) is followed:\n",
        "\n",
        "- **Input** - A conversion of a 32x32 pixel 2D matrix to a vector \n",
        "- **Hidden** - A dense layer (fully connected) with 16 neurons and linear activation\n",
        "- **Output** - A dense layer (fully connected) with 10 neurons (**the 10 output classes**) and linear activation\n",
        "\n",
        "<img src=\"https://upload.wikimedia.org/wikipedia/commons/thumb/4/46/Colored_neural_network.svg/399px-Colored_neural_network.svg.png\" alt=\"\" decoding=\"async\" width=\"300\" height=\"361\" class=\"thumbimage\">\n",
        "\n",
        "\n",
        "**Baseline Mode**l will establish a minimum model performance to which all of my other models can be compared, as well as a model architecture that I can use as the basis of study and improvement\n",
        "## My model archeticture involves stacking convolutional layers followed by a max pooling layer. Together, these layers form a block, and these blocks can be repeated where the number of filters in each block is increased with the depth of the network such as 32, 64 for the first two blocks. Padding is used on the convolutional layers to ensure the height and width of the output feature maps matches the inputs.\n",
        "\n",
        "## **Initially** I will define the feature detector part then I will couple it with a classifier part that interprets the features and makes a prediction as to which class a given photo belongs. This can be fixed for each model I investigate. Note that the feature maps output from the feature extraction part of the model must be flattened and the output layer must have 10 nodes for the 10 classes and use the softmax activation function.\n",
        "\n",
        "## **Optimize my model (Using stochastic gradient descent)**\n",
        "# I will use  a modest learning rate of 0.001 and a large momentum of 0.9, both of which are good general starting points. The model will optimize the categorical cross entropy loss function required for multi-class classification and will monitor classification accuracy\n",
        "\n",
        "## Finally I will Compile my model and run my function define_model()\n"
      ]
    },
    {
      "cell_type": "markdown",
      "metadata": {
        "id": "f0zuT4YZXwv7"
      },
      "source": [
        "## **Note** When we add convolutions, we need to \"pre-treat the data\", because **the convolution expects an array of 4 fields** (more like \"images\"), in the case of MNIST. CIFAR10 already has the right shape, so we don't have to do anything, but as we always say: you better check its size.\n",
        "\n",
        "##Therefore, when exiting the Convolution, you have to do a Flatten(Fully Connected Input Layer), because fully connected Dense layers expect arrays, not matrices !!\n",
        "\n"
      ]
    },
    {
      "cell_type": "code",
      "execution_count": 58,
      "metadata": {
        "id": "wdSk-GDNGI09",
        "colab": {
          "base_uri": "https://localhost:8080/"
        },
        "outputId": "17658d3e-6729-4ed8-d2be-9cda29782c77"
      },
      "outputs": [
        {
          "output_type": "stream",
          "name": "stdout",
          "text": [
            "Model: \"sequential_18\"\n",
            "_________________________________________________________________\n",
            " Layer (type)                Output Shape              Param #   \n",
            "=================================================================\n",
            " conv2d_128 (Conv2D)         (None, 32, 32, 32)        896       \n",
            "                                                                 \n",
            " batch_normalization_129 (Ba  (None, 32, 32, 32)       128       \n",
            " tchNormalization)                                               \n",
            "                                                                 \n",
            " conv2d_129 (Conv2D)         (None, 32, 32, 32)        9248      \n",
            "                                                                 \n",
            " max_pooling2d_64 (MaxPoolin  (None, 16, 16, 32)       0         \n",
            " g2D)                                                            \n",
            "                                                                 \n",
            " conv2d_130 (Conv2D)         (None, 16, 16, 64)        18496     \n",
            "                                                                 \n",
            " batch_normalization_130 (Ba  (None, 16, 16, 64)       64        \n",
            " tchNormalization)                                               \n",
            "                                                                 \n",
            " conv2d_131 (Conv2D)         (None, 16, 16, 64)        36928     \n",
            "                                                                 \n",
            " max_pooling2d_65 (MaxPoolin  (None, 8, 8, 64)         0         \n",
            " g2D)                                                            \n",
            "                                                                 \n",
            " batch_normalization_131 (Ba  (None, 8, 8, 64)         32        \n",
            " tchNormalization)                                               \n",
            "                                                                 \n",
            " flatten_16 (Flatten)        (None, 4096)              0         \n",
            "                                                                 \n",
            " dense_46 (Dense)            (None, 16)                65552     \n",
            "                                                                 \n",
            " dense_47 (Dense)            (None, 32)                544       \n",
            "                                                                 \n",
            " dense_48 (Dense)            (None, 10)                330       \n",
            "                                                                 \n",
            "=================================================================\n",
            "Total params: 132,218\n",
            "Trainable params: 132,106\n",
            "Non-trainable params: 112\n",
            "_________________________________________________________________\n"
          ]
        }
      ],
      "source": [
        "#My model network archeticture for baseline model-01 (Baseline+Batch Normalization) - 2 blocks depth of 32,64 consist of 4 Conv filters, 2 downsampling Pooling layers, 3 BatchNorm, and 5 fully connected layers\n",
        "# define cnn model\n",
        "model = ks.Sequential()\n",
        "model.add(Conv2D(32, (3, 3), strides=1, activation='relu', kernel_initializer='he_uniform', padding='same', input_shape=(32, 32, 3)))\n",
        "model.add(BatchNormalization(axis=1))\n",
        "model.add(Conv2D(32, (3, 3), strides=1, activation='relu', kernel_initializer='he_uniform', padding='same'))\n",
        "model.add(MaxPooling2D((2, 2)))\n",
        "model.add(Conv2D(64, (3, 3), strides=1, activation='relu', kernel_initializer='he_uniform', padding='same'))\n",
        "model.add(BatchNormalization(axis=1))\n",
        "model.add(Conv2D(64, (3, 3), strides=1, activation='relu', kernel_initializer='he_uniform', padding='same'))\n",
        "model.add(MaxPooling2D((2, 2)))\n",
        "model.add(BatchNormalization(axis=1))\n",
        "\n",
        "\n",
        "#Output part of the model\n",
        "model.add(Flatten())\n",
        "model.add(Dense(16, activation='relu', kernel_initializer='he_uniform'))\n",
        "model.add(Dense(32, activation='relu', kernel_initializer='he_uniform'))\n",
        "model.add(Dense(10, activation='softmax'))\n",
        "  \n",
        "#review my model\n",
        "model.summary()\n",
        "\n",
        "\n",
        "\n",
        " "
      ]
    },
    {
      "cell_type": "markdown",
      "metadata": {
        "id": "dNjCVMzbR2Lm"
      },
      "source": [
        "## Compile, Fit, Evaluate Model-01"
      ]
    },
    {
      "cell_type": "code",
      "execution_count": 59,
      "metadata": {
        "id": "ErgnX3ucR6fr",
        "colab": {
          "base_uri": "https://localhost:8080/"
        },
        "outputId": "b3f2a727-6376-48fe-ebc8-af158854ef2e"
      },
      "outputs": [
        {
          "output_type": "stream",
          "name": "stdout",
          "text": [
            "Epoch 1/30\n",
            "100/100 [==============================] - 6s 62ms/step - loss: 2.2675 - accuracy: 0.1503 - val_loss: 2.2268 - val_accuracy: 0.1562\n",
            "Epoch 2/30\n",
            "100/100 [==============================] - 6s 56ms/step - loss: 2.1951 - accuracy: 0.1573 - val_loss: 2.1985 - val_accuracy: 0.1670\n",
            "Epoch 3/30\n",
            "100/100 [==============================] - 6s 62ms/step - loss: 2.1493 - accuracy: 0.1650 - val_loss: 2.1314 - val_accuracy: 0.1794\n",
            "Epoch 4/30\n",
            "100/100 [==============================] - 6s 56ms/step - loss: 2.1249 - accuracy: 0.1789 - val_loss: 2.1187 - val_accuracy: 0.1983\n",
            "Epoch 5/30\n",
            "100/100 [==============================] - 7s 73ms/step - loss: 2.0579 - accuracy: 0.2081 - val_loss: 2.0360 - val_accuracy: 0.1999\n",
            "Epoch 6/30\n",
            "100/100 [==============================] - 6s 56ms/step - loss: 2.0010 - accuracy: 0.2516 - val_loss: 1.9862 - val_accuracy: 0.2413\n",
            "Epoch 7/30\n",
            "100/100 [==============================] - 6s 61ms/step - loss: 1.9213 - accuracy: 0.2708 - val_loss: 1.8955 - val_accuracy: 0.2833\n",
            "Epoch 8/30\n",
            "100/100 [==============================] - 6s 56ms/step - loss: 1.8447 - accuracy: 0.2906 - val_loss: 1.8070 - val_accuracy: 0.2964\n",
            "Epoch 9/30\n",
            "100/100 [==============================] - 6s 62ms/step - loss: 1.7749 - accuracy: 0.3181 - val_loss: 1.7555 - val_accuracy: 0.3545\n",
            "Epoch 10/30\n",
            "100/100 [==============================] - 6s 58ms/step - loss: 1.7085 - accuracy: 0.3619 - val_loss: 1.6706 - val_accuracy: 0.3768\n",
            "Epoch 11/30\n",
            "100/100 [==============================] - 6s 62ms/step - loss: 1.6688 - accuracy: 0.3762 - val_loss: 1.6302 - val_accuracy: 0.3958\n",
            "Epoch 12/30\n",
            "100/100 [==============================] - 6s 56ms/step - loss: 1.6010 - accuracy: 0.4089 - val_loss: 1.5904 - val_accuracy: 0.4160\n",
            "Epoch 13/30\n",
            "100/100 [==============================] - 6s 61ms/step - loss: 1.5510 - accuracy: 0.4320 - val_loss: 1.5712 - val_accuracy: 0.4295\n",
            "Epoch 14/30\n",
            "100/100 [==============================] - 6s 55ms/step - loss: 1.5146 - accuracy: 0.4503 - val_loss: 1.4934 - val_accuracy: 0.4532\n",
            "Epoch 15/30\n",
            "100/100 [==============================] - 6s 61ms/step - loss: 1.4822 - accuracy: 0.4622 - val_loss: 1.4998 - val_accuracy: 0.4481\n",
            "Epoch 16/30\n",
            "100/100 [==============================] - 6s 56ms/step - loss: 1.4494 - accuracy: 0.4711 - val_loss: 1.4529 - val_accuracy: 0.4662\n",
            "Epoch 17/30\n",
            "100/100 [==============================] - 6s 61ms/step - loss: 1.3880 - accuracy: 0.4928 - val_loss: 1.4068 - val_accuracy: 0.4906\n",
            "Epoch 18/30\n",
            "100/100 [==============================] - 6s 56ms/step - loss: 1.4039 - accuracy: 0.4888 - val_loss: 1.3637 - val_accuracy: 0.5046\n",
            "Epoch 19/30\n",
            "100/100 [==============================] - 6s 61ms/step - loss: 1.3293 - accuracy: 0.5156 - val_loss: 1.3249 - val_accuracy: 0.5142\n",
            "Epoch 20/30\n",
            "100/100 [==============================] - 6s 57ms/step - loss: 1.2761 - accuracy: 0.5370 - val_loss: 1.3405 - val_accuracy: 0.5156\n",
            "Epoch 21/30\n",
            "100/100 [==============================] - 7s 72ms/step - loss: 1.2709 - accuracy: 0.5350 - val_loss: 1.2635 - val_accuracy: 0.5375\n",
            "Epoch 22/30\n",
            "100/100 [==============================] - 6s 56ms/step - loss: 1.2560 - accuracy: 0.5425 - val_loss: 1.3076 - val_accuracy: 0.5311\n",
            "Epoch 23/30\n",
            "100/100 [==============================] - 6s 61ms/step - loss: 1.2026 - accuracy: 0.5564 - val_loss: 1.2628 - val_accuracy: 0.5345\n",
            "Epoch 24/30\n",
            "100/100 [==============================] - 6s 56ms/step - loss: 1.2106 - accuracy: 0.5539 - val_loss: 1.1938 - val_accuracy: 0.5662\n",
            "Epoch 25/30\n",
            "100/100 [==============================] - 6s 61ms/step - loss: 1.1811 - accuracy: 0.5734 - val_loss: 1.2431 - val_accuracy: 0.5546\n",
            "Epoch 26/30\n",
            "100/100 [==============================] - 6s 62ms/step - loss: 1.0907 - accuracy: 0.6059 - val_loss: 1.1910 - val_accuracy: 0.5768\n",
            "Epoch 27/30\n",
            "100/100 [==============================] - 6s 61ms/step - loss: 1.1189 - accuracy: 0.5942 - val_loss: 1.2148 - val_accuracy: 0.5643\n",
            "Epoch 28/30\n",
            "100/100 [==============================] - 6s 56ms/step - loss: 1.0910 - accuracy: 0.6078 - val_loss: 1.1436 - val_accuracy: 0.5852\n",
            "Epoch 29/30\n",
            "100/100 [==============================] - 6s 61ms/step - loss: 1.0963 - accuracy: 0.6044 - val_loss: 1.1935 - val_accuracy: 0.5759\n",
            "Epoch 30/30\n",
            "100/100 [==============================] - 6s 56ms/step - loss: 1.0817 - accuracy: 0.6052 - val_loss: 1.1336 - val_accuracy: 0.5915\n",
            "Train Acuuracy: > 63.332\n",
            "Test Accuracy: > 59.010\n",
            "Validation Accuracy:> 59.150\n"
          ]
        }
      ],
      "source": [
        "#compile,fit, and evaluate\n",
        "#Optimize my model \n",
        "opt = SGD(lr=0.001, momentum=0.9)\n",
        "model.compile(optimizer=opt, loss='sparse_categorical_crossentropy', metrics=['accuracy'])\n",
        "\n",
        "# fit model\n",
        "history = model.fit(x_train, y_train, epochs=30, use_multiprocessing=False, batch_size=64, \n",
        "                    validation_data=(x_val,y_val),steps_per_epoch= 100)\n",
        "\n",
        "#evaluate model\n",
        "_, acc = model.evaluate(x_train, y_train, verbose=0)\n",
        "print('Train Acuuracy: > %.3f' % (acc * 100.0))\n",
        "\n",
        "_, acc = model.evaluate(x_test, y_test, verbose=0)\n",
        "print('Test Accuracy: > %.3f' % (acc * 100.0))\n",
        "\n",
        "_, acc = model.evaluate(x_val, y_val, verbose=0)\n",
        "print('Validation Accuracy:> %.3f' % (acc * 100.0))\n",
        "\n",
        "\n"
      ]
    },
    {
      "cell_type": "markdown",
      "source": [
        "##Train Acuuracy: > 63.332\n",
        "##Test Accuracy: > 59.010\n",
        "##Validation Accuracy:> 59.150"
      ],
      "metadata": {
        "id": "P6OAedT6IRsp"
      }
    },
    {
      "cell_type": "markdown",
      "metadata": {
        "id": "aED6j9Tdb4YU"
      },
      "source": [
        "## Check Elapsed Time of Model-01\n",
        "\n"
      ]
    },
    {
      "cell_type": "code",
      "execution_count": 61,
      "metadata": {
        "id": "3UD0fRLhcPYE",
        "colab": {
          "base_uri": "https://localhost:8080/"
        },
        "outputId": "692a21f7-be06-43b5-bd56-a692c18c3196"
      },
      "outputs": [
        {
          "output_type": "stream",
          "name": "stdout",
          "text": [
            "Training time: 0:00:00.000036\n"
          ]
        }
      ],
      "source": [
        "#Check Elapsed Time\n",
        "t = time.perf_counter()\n",
        "elapsed_time = datetime.timedelta(seconds=(time.perf_counter() - t))\n",
        "print('Training time:', elapsed_time)"
      ]
    },
    {
      "cell_type": "markdown",
      "metadata": {
        "id": "s80eA1dGLeU8"
      },
      "source": [
        "## Visualize Baseline-01 model Output"
      ]
    },
    {
      "cell_type": "code",
      "execution_count": 65,
      "metadata": {
        "id": "sWaRR_esLat2",
        "colab": {
          "base_uri": "https://localhost:8080/",
          "height": 545
        },
        "outputId": "e03d99f7-1b9a-409c-d3ac-2f85b1b4b3a4"
      },
      "outputs": [
        {
          "output_type": "display_data",
          "data": {
            "text/plain": [
              "<Figure size 432x288 with 1 Axes>"
            ],
            "image/png": "[encoded data removed]"
          },
          "metadata": {
            "needs_background": "light"
          }
        },
        {
          "output_type": "display_data",
          "data": {
            "text/plain": [
              "<Figure size 432x288 with 1 Axes>"
            ],
            "image/png": "[encoded data removed]"
          },
          "metadata": {
            "needs_background": "light"
          }
        }
      ],
      "source": [
        "plt.title('Cross Entropy Loss')\n",
        "plt.plot(history.history['loss'], color='blue', label='train')\n",
        "plt.plot(history.history['val_loss'], color='orange', label='val')\n",
        "plt.legend()\n",
        "plt.show()\n",
        "\n",
        "plt.title('Classification Accuracy')\n",
        "plt.plot(history.history['accuracy'], color='blue', label='train')\n",
        "plt.plot(history.history['val_accuracy'], color='orange', label='val')\n",
        "plt.legend()\n",
        "plt.show()"
      ]
    },
    {
      "cell_type": "markdown",
      "metadata": {
        "id": "-gCO_FUDrN81"
      },
      "source": [
        "## Conclusion\n",
        "\n",
        "In this case, we can see that the model rapidly overfits the validation dataset. This is clear if we look at the plot of loss (top plot), we can see that the model’s performance on the training dataset (blue) continues to improve whereas the performance on the test dataset (orange) improves, then starts to get worse and fluctuates at around 15 epochs.\n",
        "\n",
        "Training Graph: Cross Entropy Loss starts at 2 at 0 epoch and then is reducing nicely from 2 at 0 epoch to less than0.25 at 30 epoch\n",
        "Validation Graph: Cross entropy loss starts at 1.75 loss and then reduces until it reaches around 1.125 error at around 13 epoch. Then from that point it starts going up then fluctuates until it overshoots to error 2 at 30 epoch (due to overfitting) "
      ]
    },
    {
      "cell_type": "markdown",
      "metadata": {
        "id": "cGFWVSdIKoBv"
      },
      "source": [
        "## Baseline model-02"
      ]
    },
    {
      "cell_type": "code",
      "execution_count": 63,
      "metadata": {
        "id": "Rt7JR_wvym7i",
        "colab": {
          "base_uri": "https://localhost:8080/"
        },
        "outputId": "99f365a6-e89d-49e4-d678-e1b8189ae61d"
      },
      "outputs": [
        {
          "output_type": "stream",
          "name": "stdout",
          "text": [
            "Model: \"sequential_19\"\n",
            "_________________________________________________________________\n",
            " Layer (type)                Output Shape              Param #   \n",
            "=================================================================\n",
            " conv2d_132 (Conv2D)         (None, 32, 32, 132)       3696      \n",
            "                                                                 \n",
            " batch_normalization_132 (Ba  (None, 32, 32, 132)      128       \n",
            " tchNormalization)                                               \n",
            "                                                                 \n",
            " conv2d_133 (Conv2D)         (None, 32, 32, 132)       156948    \n",
            "                                                                 \n",
            " batch_normalization_133 (Ba  (None, 32, 32, 132)      128       \n",
            " tchNormalization)                                               \n",
            "                                                                 \n",
            " max_pooling2d_66 (MaxPoolin  (None, 16, 16, 132)      0         \n",
            " g2D)                                                            \n",
            "                                                                 \n",
            " conv2d_134 (Conv2D)         (None, 16, 16, 256)       304384    \n",
            "                                                                 \n",
            " batch_normalization_134 (Ba  (None, 16, 16, 256)      64        \n",
            " tchNormalization)                                               \n",
            "                                                                 \n",
            " conv2d_135 (Conv2D)         (None, 16, 16, 256)       590080    \n",
            "                                                                 \n",
            " max_pooling2d_67 (MaxPoolin  (None, 8, 8, 256)        0         \n",
            " g2D)                                                            \n",
            "                                                                 \n",
            " conv2d_136 (Conv2D)         (None, 8, 8, 512)         1180160   \n",
            "                                                                 \n",
            " conv2d_137 (Conv2D)         (None, 8, 8, 512)         2359808   \n",
            "                                                                 \n",
            " max_pooling2d_68 (MaxPoolin  (None, 4, 4, 512)        0         \n",
            " g2D)                                                            \n",
            "                                                                 \n",
            " flatten_17 (Flatten)        (None, 8192)              0         \n",
            "                                                                 \n",
            " dense_49 (Dense)            (None, 256)               2097408   \n",
            "                                                                 \n",
            " dense_50 (Dense)            (None, 512)               131584    \n",
            "                                                                 \n",
            " dense_51 (Dense)            (None, 64)                32832     \n",
            "                                                                 \n",
            " dense_52 (Dense)            (None, 10)                650       \n",
            "                                                                 \n",
            "=================================================================\n",
            "Total params: 6,857,870\n",
            "Trainable params: 6,857,710\n",
            "Non-trainable params: 160\n",
            "_________________________________________________________________\n"
          ]
        }
      ],
      "source": [
        "#My model network archeticture for baseline model-02 - (Baseline+Batch Normalization) - 3 blocks depth 132,256,512\n",
        "# define cnn model\n",
        "model = ks.Sequential()\n",
        "model.add(Conv2D(132, (3, 3), strides=1, activation='relu', kernel_initializer='he_uniform', padding='same', input_shape=(32, 32, 3)))\n",
        "model.add(BatchNormalization(axis=1))\n",
        "model.add(Conv2D(132, (3, 3), strides=1, activation='relu', kernel_initializer='he_uniform', padding='same'))\n",
        "model.add(BatchNormalization(axis=1))\n",
        "model.add(MaxPooling2D((2, 2)))\n",
        "model.add(Conv2D(256, (3, 3), strides=1, activation='relu', kernel_initializer='he_uniform', padding='same'))\n",
        "model.add(BatchNormalization(axis=1))\n",
        "model.add(Conv2D(256, (3, 3), strides=1, activation='relu', kernel_initializer='he_uniform', padding='same'))\n",
        "model.add(MaxPooling2D((2, 2)))\n",
        "model.add(Conv2D(512, (3, 3), strides=1, activation='relu', kernel_initializer='he_uniform', padding='same'))\n",
        "model.add(Conv2D(512, (3, 3), strides=1, activation='relu', kernel_initializer='he_uniform', padding='same'))\n",
        "model.add(MaxPooling2D((2, 2)))\n",
        "\n",
        "#Output part of the model\n",
        "model.add(Flatten())\n",
        "model.add(Dense(256, activation='relu', kernel_initializer='he_uniform'))\n",
        "model.add(Dense(512, activation='relu', kernel_initializer='he_uniform'))\n",
        "model.add(Dense(64, activation='relu', kernel_initializer='he_uniform'))\n",
        "\n",
        "model.add(Dense(10, activation='softmax'))\n",
        "\n",
        "#review my model\n",
        "model.summary()\n",
        "\n",
        "\n",
        "\n",
        "\n",
        " "
      ]
    },
    {
      "cell_type": "markdown",
      "metadata": {
        "id": "WoNuk3BySyQx"
      },
      "source": [
        "## Compile, Fit, Evaluate Model-02"
      ]
    },
    {
      "cell_type": "code",
      "execution_count": 64,
      "metadata": {
        "id": "04ZbOsg7S4Ub",
        "colab": {
          "base_uri": "https://localhost:8080/"
        },
        "outputId": "13f468ab-e938-4a02-ee4d-01f140ab5e3b"
      },
      "outputs": [
        {
          "output_type": "stream",
          "name": "stdout",
          "text": [
            "Epoch 1/30\n",
            "100/100 [==============================] - 9s 92ms/step - loss: 2.1971 - accuracy: 0.2059 - val_loss: 2.0254 - val_accuracy: 0.2544\n",
            "Epoch 2/30\n",
            "100/100 [==============================] - 9s 94ms/step - loss: 1.8775 - accuracy: 0.3105 - val_loss: 1.7910 - val_accuracy: 0.3517\n",
            "Epoch 3/30\n",
            "100/100 [==============================] - 10s 97ms/step - loss: 1.7293 - accuracy: 0.3694 - val_loss: 1.6874 - val_accuracy: 0.3986\n",
            "Epoch 4/30\n",
            "100/100 [==============================] - 9s 89ms/step - loss: 1.6190 - accuracy: 0.4130 - val_loss: 1.5746 - val_accuracy: 0.4146\n",
            "Epoch 5/30\n",
            "100/100 [==============================] - 9s 92ms/step - loss: 1.5040 - accuracy: 0.4534 - val_loss: 1.4678 - val_accuracy: 0.4723\n",
            "Epoch 6/30\n",
            "100/100 [==============================] - 9s 91ms/step - loss: 1.4656 - accuracy: 0.4689 - val_loss: 1.4110 - val_accuracy: 0.5007\n",
            "Epoch 7/30\n",
            "100/100 [==============================] - 10s 98ms/step - loss: 1.3870 - accuracy: 0.5011 - val_loss: 1.4933 - val_accuracy: 0.4667\n",
            "Epoch 8/30\n",
            "100/100 [==============================] - 9s 94ms/step - loss: 1.3605 - accuracy: 0.5075 - val_loss: 1.3741 - val_accuracy: 0.4995\n",
            "Epoch 9/30\n",
            "100/100 [==============================] - 10s 99ms/step - loss: 1.2911 - accuracy: 0.5347 - val_loss: 1.2700 - val_accuracy: 0.5385\n",
            "Epoch 10/30\n",
            "100/100 [==============================] - 9s 91ms/step - loss: 1.2810 - accuracy: 0.5345 - val_loss: 1.2559 - val_accuracy: 0.5472\n",
            "Epoch 11/30\n",
            "100/100 [==============================] - 9s 93ms/step - loss: 1.2295 - accuracy: 0.5591 - val_loss: 1.1723 - val_accuracy: 0.5786\n",
            "Epoch 12/30\n",
            "100/100 [==============================] - 9s 91ms/step - loss: 1.1852 - accuracy: 0.5767 - val_loss: 1.1966 - val_accuracy: 0.5683\n",
            "Epoch 13/30\n",
            "100/100 [==============================] - 9s 91ms/step - loss: 1.1178 - accuracy: 0.5998 - val_loss: 1.1519 - val_accuracy: 0.5876\n",
            "Epoch 14/30\n",
            "100/100 [==============================] - 9s 92ms/step - loss: 1.0751 - accuracy: 0.6172 - val_loss: 1.1323 - val_accuracy: 0.5975\n",
            "Epoch 15/30\n",
            "100/100 [==============================] - 9s 92ms/step - loss: 1.0589 - accuracy: 0.6153 - val_loss: 1.1252 - val_accuracy: 0.6037\n",
            "Epoch 16/30\n",
            "100/100 [==============================] - 9s 91ms/step - loss: 1.0316 - accuracy: 0.6283 - val_loss: 1.0436 - val_accuracy: 0.6315\n",
            "Epoch 17/30\n",
            "100/100 [==============================] - 9s 90ms/step - loss: 1.0106 - accuracy: 0.6338 - val_loss: 1.0319 - val_accuracy: 0.6319\n",
            "Epoch 18/30\n",
            "100/100 [==============================] - 9s 92ms/step - loss: 1.0088 - accuracy: 0.6389 - val_loss: 1.0407 - val_accuracy: 0.6279\n",
            "Epoch 19/30\n",
            "100/100 [==============================] - 9s 92ms/step - loss: 0.9663 - accuracy: 0.6547 - val_loss: 1.0622 - val_accuracy: 0.6288\n",
            "Epoch 20/30\n",
            "100/100 [==============================] - 9s 91ms/step - loss: 0.8609 - accuracy: 0.6914 - val_loss: 1.0220 - val_accuracy: 0.6393\n",
            "Epoch 21/30\n",
            "100/100 [==============================] - 9s 91ms/step - loss: 0.8501 - accuracy: 0.6930 - val_loss: 0.9730 - val_accuracy: 0.6568\n",
            "Epoch 22/30\n",
            "100/100 [==============================] - 9s 92ms/step - loss: 0.8979 - accuracy: 0.6822 - val_loss: 0.9854 - val_accuracy: 0.6566\n",
            "Epoch 23/30\n",
            "100/100 [==============================] - 9s 92ms/step - loss: 0.8335 - accuracy: 0.7042 - val_loss: 0.9334 - val_accuracy: 0.6742\n",
            "Epoch 24/30\n",
            "100/100 [==============================] - 9s 92ms/step - loss: 0.8501 - accuracy: 0.7017 - val_loss: 0.9837 - val_accuracy: 0.6525\n",
            "Epoch 25/30\n",
            "100/100 [==============================] - 9s 93ms/step - loss: 0.8589 - accuracy: 0.7023 - val_loss: 0.8935 - val_accuracy: 0.6856\n",
            "Epoch 26/30\n",
            "100/100 [==============================] - 9s 91ms/step - loss: 0.7158 - accuracy: 0.7495 - val_loss: 0.9606 - val_accuracy: 0.6668\n",
            "Epoch 27/30\n",
            "100/100 [==============================] - 9s 92ms/step - loss: 0.7041 - accuracy: 0.7462 - val_loss: 0.9473 - val_accuracy: 0.6749\n",
            "Epoch 28/30\n",
            "100/100 [==============================] - 9s 92ms/step - loss: 0.7071 - accuracy: 0.7480 - val_loss: 0.9198 - val_accuracy: 0.6865\n",
            "Epoch 29/30\n",
            "100/100 [==============================] - 9s 90ms/step - loss: 0.6862 - accuracy: 0.7567 - val_loss: 0.8869 - val_accuracy: 0.6964\n",
            "Epoch 30/30\n",
            "100/100 [==============================] - 9s 92ms/step - loss: 0.6971 - accuracy: 0.7531 - val_loss: 0.8779 - val_accuracy: 0.6931\n",
            "Train Acuuracy: > 80.467\n",
            "Test Accuracy: > 69.650\n",
            "Validation Accuracy:> 69.310\n"
          ]
        }
      ],
      "source": [
        "#compile,fit, and evaluate\n",
        "#Optimize my model \n",
        "opt = SGD(lr=0.001, momentum=0.9)\n",
        "model.compile(optimizer=opt, loss='sparse_categorical_crossentropy', metrics=['accuracy'])\n",
        "\n",
        "# fit model\n",
        "history = model.fit(x_train, y_train, epochs=30, use_multiprocessing=False, batch_size=64, \n",
        "                    validation_data=(x_val,y_val),steps_per_epoch= 100)\n",
        "\n",
        "#evaluate model\n",
        "_, acc = model.evaluate(x_train, y_train, verbose=0)\n",
        "print('Train Acuuracy: > %.3f' % (acc * 100.0))\n",
        "\n",
        "_, acc = model.evaluate(x_test, y_test, verbose=0)\n",
        "print('Test Accuracy: > %.3f' % (acc * 100.0))\n",
        "\n",
        "_, acc = model.evaluate(x_val, y_val, verbose=0)\n",
        "print('Validation Accuracy:> %.3f' % (acc * 100.0))\n",
        "\n",
        "\n"
      ]
    },
    {
      "cell_type": "markdown",
      "source": [
        "##Train Acuuracy: > 80.467\n",
        "##Test Accuracy: > 69.650\n",
        "##Validation Accuracy:> 69.310"
      ],
      "metadata": {
        "id": "zoUxLzefJN6Z"
      }
    },
    {
      "cell_type": "markdown",
      "metadata": {
        "id": "oOyfPA6ScS8_"
      },
      "source": [
        "## Check Elapsed Time of Model\n",
        "\n"
      ]
    },
    {
      "cell_type": "code",
      "execution_count": 66,
      "metadata": {
        "id": "n6_-8XiJcSeH",
        "colab": {
          "base_uri": "https://localhost:8080/"
        },
        "outputId": "b734886e-4829-4826-ca28-048e2f8e5466"
      },
      "outputs": [
        {
          "output_type": "stream",
          "name": "stdout",
          "text": [
            "Training time: 0:00:00.000044\n"
          ]
        }
      ],
      "source": [
        "#Check Elapsed Time\n",
        "t = time.perf_counter()\n",
        "elapsed_time = datetime.timedelta(seconds=(time.perf_counter() - t))\n",
        "print('Training time:', elapsed_time)"
      ]
    },
    {
      "cell_type": "markdown",
      "metadata": {
        "id": "oXEpIKOhIbkP"
      },
      "source": [
        "## Visualize Baseline-02 model Output"
      ]
    },
    {
      "cell_type": "code",
      "execution_count": 67,
      "metadata": {
        "id": "HWdZ0emPIi5P",
        "colab": {
          "base_uri": "https://localhost:8080/",
          "height": 545
        },
        "outputId": "0f5cde26-a768-47d9-df72-28fee6e63cc3"
      },
      "outputs": [
        {
          "output_type": "display_data",
          "data": {
            "text/plain": [
              "<Figure size 432x288 with 1 Axes>"
            ],
            "image/png": "[encoded data removed]"
          },
          "metadata": {
            "needs_background": "light"
          }
        },
        {
          "output_type": "display_data",
          "data": {
            "text/plain": [
              "<Figure size 432x288 with 1 Axes>"
            ],
            "image/png": "[encoded data removed]"
          },
          "metadata": {
            "needs_background": "light"
          }
        }
      ],
      "source": [
        "plt.title('Cross Entropy Loss')\n",
        "plt.plot(history.history['loss'], color='blue', label='train')\n",
        "plt.plot(history.history['val_loss'], color='orange', label='val')\n",
        "plt.legend()\n",
        "plt.show()\n",
        "\n",
        "plt.title('Classification Accuracy')\n",
        "plt.plot(history.history['accuracy'], color='blue', label='train')\n",
        "plt.plot(history.history['val_accuracy'], color='orange', label='val')\n",
        "plt.legend()\n",
        "plt.show()"
      ]
    },
    {
      "cell_type": "markdown",
      "metadata": {
        "id": "7SCEJ5HMvPil"
      },
      "source": [
        "## Conclusion\n",
        "\n",
        "In this case, we can see that the model overfits the validation dataset. This is clear if we look at the plot of loss (top plot), we can see that the model’s performance on the training dataset (blue) continues to improve whereas the performance on the test dataset (orange) improves, then starts to get worse and fluctuates at around 15 epochs.\n",
        "\n",
        "Training Graph: Cross Entropy Loss is reducing nicely from above 2 at 0 epoch to less than 0.25 at 30 epoch\n",
        "Validation Graph: Cross entropy loss starts at 2 at 0 epochs, reduces to 1.25 at 15 epoch and then starts fluctuating from 15-30 epoch until it error overshoots above 2 error  (due to overfitting) "
      ]
    },
    {
      "cell_type": "markdown",
      "metadata": {
        "id": "6AeLkUEawhCp"
      },
      "source": [
        "## Baseline model-03"
      ]
    },
    {
      "cell_type": "code",
      "execution_count": 68,
      "metadata": {
        "id": "pnn0FkdfwiLl",
        "colab": {
          "base_uri": "https://localhost:8080/"
        },
        "outputId": "dc5bb707-4c9a-4a1d-ac54-1dd73581f8db"
      },
      "outputs": [
        {
          "output_type": "stream",
          "name": "stdout",
          "text": [
            "Model: \"sequential_20\"\n",
            "_________________________________________________________________\n",
            " Layer (type)                Output Shape              Param #   \n",
            "=================================================================\n",
            " conv2d_138 (Conv2D)         (None, 32, 32, 132)       3696      \n",
            "                                                                 \n",
            " batch_normalization_135 (Ba  (None, 32, 32, 132)      128       \n",
            " tchNormalization)                                               \n",
            "                                                                 \n",
            " conv2d_139 (Conv2D)         (None, 32, 32, 132)       156948    \n",
            "                                                                 \n",
            " batch_normalization_136 (Ba  (None, 32, 32, 132)      128       \n",
            " tchNormalization)                                               \n",
            "                                                                 \n",
            " max_pooling2d_69 (MaxPoolin  (None, 16, 16, 132)      0         \n",
            " g2D)                                                            \n",
            "                                                                 \n",
            " conv2d_140 (Conv2D)         (None, 16, 16, 256)       304384    \n",
            "                                                                 \n",
            " batch_normalization_137 (Ba  (None, 16, 16, 256)      64        \n",
            " tchNormalization)                                               \n",
            "                                                                 \n",
            " conv2d_141 (Conv2D)         (None, 16, 16, 256)       590080    \n",
            "                                                                 \n",
            " max_pooling2d_70 (MaxPoolin  (None, 8, 8, 256)        0         \n",
            " g2D)                                                            \n",
            "                                                                 \n",
            " conv2d_142 (Conv2D)         (None, 8, 8, 512)         1180160   \n",
            "                                                                 \n",
            " batch_normalization_138 (Ba  (None, 8, 8, 512)        32        \n",
            " tchNormalization)                                               \n",
            "                                                                 \n",
            " conv2d_143 (Conv2D)         (None, 8, 8, 512)         2359808   \n",
            "                                                                 \n",
            " max_pooling2d_71 (MaxPoolin  (None, 4, 4, 512)        0         \n",
            " g2D)                                                            \n",
            "                                                                 \n",
            " conv2d_144 (Conv2D)         (None, 4, 4, 1024)        4719616   \n",
            "                                                                 \n",
            " batch_normalization_139 (Ba  (None, 4, 4, 1024)       16        \n",
            " tchNormalization)                                               \n",
            "                                                                 \n",
            " conv2d_145 (Conv2D)         (None, 4, 4, 1024)        9438208   \n",
            "                                                                 \n",
            " max_pooling2d_72 (MaxPoolin  (None, 2, 2, 1024)       0         \n",
            " g2D)                                                            \n",
            "                                                                 \n",
            " flatten_18 (Flatten)        (None, 4096)              0         \n",
            "                                                                 \n",
            " dense_53 (Dense)            (None, 512)               2097664   \n",
            "                                                                 \n",
            " dense_54 (Dense)            (None, 1024)              525312    \n",
            "                                                                 \n",
            " dense_55 (Dense)            (None, 10)                10250     \n",
            "                                                                 \n",
            "=================================================================\n",
            "Total params: 21,386,494\n",
            "Trainable params: 21,386,310\n",
            "Non-trainable params: 184\n",
            "_________________________________________________________________\n"
          ]
        }
      ],
      "source": [
        "#My model network archeticture for baseline model-03 - (Baseline+Batch Normalization) - 4 blocks depth 132,256,512,1024\n",
        "# define cnn model\n",
        "model = ks.Sequential()\n",
        "model.add(Conv2D(132, (3, 3), strides=1, activation='relu', kernel_initializer='he_uniform', padding='same', input_shape=(32, 32, 3)))\n",
        "model.add(BatchNormalization(axis=1))\n",
        "model.add(Conv2D(132, (3, 3), strides=1, activation='relu', kernel_initializer='he_uniform', padding='same'))\n",
        "model.add(BatchNormalization(axis=1))\n",
        "model.add(MaxPooling2D((2, 2)))\n",
        "model.add(Conv2D(256, (3, 3), strides=1, activation='relu', kernel_initializer='he_uniform', padding='same'))\n",
        "model.add(BatchNormalization(axis=1))\n",
        "model.add(Conv2D(256, (3, 3), strides=1, activation='relu', kernel_initializer='he_uniform', padding='same'))\n",
        "model.add(MaxPooling2D((2, 2)))\n",
        "model.add(Conv2D(512, (3, 3), strides=1, activation='relu', kernel_initializer='he_uniform', padding='same'))\n",
        "model.add(BatchNormalization(axis=1))\n",
        "model.add(Conv2D(512, (3, 3), strides=1, activation='relu', kernel_initializer='he_uniform', padding='same'))\n",
        "model.add(MaxPooling2D((2, 2)))\n",
        "model.add(Conv2D(1024, (3, 3), strides=1, activation='relu', kernel_initializer='he_uniform', padding='same'))\n",
        "model.add(BatchNormalization(axis=1))\n",
        "model.add(Conv2D(1024, (3, 3), strides=1, activation='relu', kernel_initializer='he_uniform', padding='same'))\n",
        "model.add(MaxPooling2D((2, 2)))\n",
        "\n",
        "\n",
        "#Output part of the model\n",
        "model.add(Flatten())\n",
        "model.add(Dense(512, activation='relu', kernel_initializer='he_uniform'))\n",
        "model.add(Dense(1024, activation='relu', kernel_initializer='he_uniform'))\n",
        "model.add(Dense(10, activation='softmax'))\n",
        "\n",
        "#review my model\n",
        "model.summary()\n",
        "\n",
        "\n",
        "\n",
        "\n",
        " "
      ]
    },
    {
      "cell_type": "markdown",
      "metadata": {
        "id": "JA_DVjLfx0WZ"
      },
      "source": [
        "## Compile, Fit, Evaluate Model-03"
      ]
    },
    {
      "cell_type": "code",
      "execution_count": 69,
      "metadata": {
        "id": "KpqNi8GCJ5ds",
        "colab": {
          "base_uri": "https://localhost:8080/"
        },
        "outputId": "72ef299b-fec9-43d3-c095-cd323c712ac9"
      },
      "outputs": [
        {
          "output_type": "stream",
          "name": "stdout",
          "text": [
            "Epoch 1/30\n",
            "100/100 [==============================] - 14s 136ms/step - loss: 2.1947 - accuracy: 0.2361 - val_loss: 2.2154 - val_accuracy: 0.2234\n",
            "Epoch 2/30\n",
            "100/100 [==============================] - 12s 124ms/step - loss: 1.7679 - accuracy: 0.3550 - val_loss: 1.7364 - val_accuracy: 0.3900\n",
            "Epoch 3/30\n",
            "100/100 [==============================] - 12s 124ms/step - loss: 1.6673 - accuracy: 0.3802 - val_loss: 1.5762 - val_accuracy: 0.4184\n",
            "Epoch 4/30\n",
            "100/100 [==============================] - 12s 123ms/step - loss: 1.5616 - accuracy: 0.4288 - val_loss: 1.5267 - val_accuracy: 0.4393\n",
            "Epoch 5/30\n",
            "100/100 [==============================] - 12s 123ms/step - loss: 1.5257 - accuracy: 0.4531 - val_loss: 1.4903 - val_accuracy: 0.4491\n",
            "Epoch 6/30\n",
            "100/100 [==============================] - 12s 122ms/step - loss: 1.4644 - accuracy: 0.4656 - val_loss: 1.3788 - val_accuracy: 0.5032\n",
            "Epoch 7/30\n",
            "100/100 [==============================] - 12s 122ms/step - loss: 1.3363 - accuracy: 0.5122 - val_loss: 1.3784 - val_accuracy: 0.4944\n",
            "Epoch 8/30\n",
            "100/100 [==============================] - 12s 122ms/step - loss: 1.3162 - accuracy: 0.5198 - val_loss: 1.3102 - val_accuracy: 0.5160\n",
            "Epoch 9/30\n",
            "100/100 [==============================] - 12s 123ms/step - loss: 1.2899 - accuracy: 0.5281 - val_loss: 1.3083 - val_accuracy: 0.5285\n",
            "Epoch 10/30\n",
            "100/100 [==============================] - 12s 124ms/step - loss: 1.3324 - accuracy: 0.5188 - val_loss: 1.2642 - val_accuracy: 0.5439\n",
            "Epoch 11/30\n",
            "100/100 [==============================] - 12s 123ms/step - loss: 1.1955 - accuracy: 0.5669 - val_loss: 1.1934 - val_accuracy: 0.5757\n",
            "Epoch 12/30\n",
            "100/100 [==============================] - 12s 123ms/step - loss: 1.2016 - accuracy: 0.5680 - val_loss: 1.1538 - val_accuracy: 0.5842\n",
            "Epoch 13/30\n",
            "100/100 [==============================] - 12s 123ms/step - loss: 1.1537 - accuracy: 0.5880 - val_loss: 1.1976 - val_accuracy: 0.5771\n",
            "Epoch 14/30\n",
            "100/100 [==============================] - 12s 123ms/step - loss: 1.0715 - accuracy: 0.6178 - val_loss: 1.1535 - val_accuracy: 0.5787\n",
            "Epoch 15/30\n",
            "100/100 [==============================] - 12s 123ms/step - loss: 1.0677 - accuracy: 0.6155 - val_loss: 1.1030 - val_accuracy: 0.6056\n",
            "Epoch 16/30\n",
            "100/100 [==============================] - 12s 123ms/step - loss: 1.0373 - accuracy: 0.6325 - val_loss: 1.1284 - val_accuracy: 0.6015\n",
            "Epoch 17/30\n",
            "100/100 [==============================] - 12s 123ms/step - loss: 1.0505 - accuracy: 0.6269 - val_loss: 1.0473 - val_accuracy: 0.6295\n",
            "Epoch 18/30\n",
            "100/100 [==============================] - 12s 123ms/step - loss: 1.0094 - accuracy: 0.6458 - val_loss: 0.9869 - val_accuracy: 0.6531\n",
            "Epoch 19/30\n",
            "100/100 [==============================] - 12s 124ms/step - loss: 0.9667 - accuracy: 0.6559 - val_loss: 0.9853 - val_accuracy: 0.6547\n",
            "Epoch 20/30\n",
            "100/100 [==============================] - 12s 123ms/step - loss: 0.8579 - accuracy: 0.6986 - val_loss: 1.0281 - val_accuracy: 0.6393\n",
            "Epoch 21/30\n",
            "100/100 [==============================] - 12s 123ms/step - loss: 0.8744 - accuracy: 0.6827 - val_loss: 0.9965 - val_accuracy: 0.6511\n",
            "Epoch 22/30\n",
            "100/100 [==============================] - 12s 124ms/step - loss: 0.8583 - accuracy: 0.6972 - val_loss: 0.9922 - val_accuracy: 0.6537\n",
            "Epoch 23/30\n",
            "100/100 [==============================] - 12s 123ms/step - loss: 0.8732 - accuracy: 0.6886 - val_loss: 1.0068 - val_accuracy: 0.6473\n",
            "Epoch 24/30\n",
            "100/100 [==============================] - 12s 123ms/step - loss: 0.8229 - accuracy: 0.7036 - val_loss: 0.9291 - val_accuracy: 0.6741\n",
            "Epoch 25/30\n",
            "100/100 [==============================] - 12s 123ms/step - loss: 0.8531 - accuracy: 0.6967 - val_loss: 0.9464 - val_accuracy: 0.6651\n",
            "Epoch 26/30\n",
            "100/100 [==============================] - 12s 123ms/step - loss: 0.6696 - accuracy: 0.7605 - val_loss: 0.9435 - val_accuracy: 0.6844\n",
            "Epoch 27/30\n",
            "100/100 [==============================] - 12s 123ms/step - loss: 0.6852 - accuracy: 0.7564 - val_loss: 0.9749 - val_accuracy: 0.6682\n",
            "Epoch 28/30\n",
            "100/100 [==============================] - 12s 122ms/step - loss: 0.7155 - accuracy: 0.7464 - val_loss: 0.9069 - val_accuracy: 0.6859\n",
            "Epoch 29/30\n",
            "100/100 [==============================] - 12s 123ms/step - loss: 0.6916 - accuracy: 0.7584 - val_loss: 0.8682 - val_accuracy: 0.6945\n",
            "Epoch 30/30\n",
            "100/100 [==============================] - 12s 123ms/step - loss: 0.6556 - accuracy: 0.7738 - val_loss: 0.8941 - val_accuracy: 0.6976\n",
            "Train Acuuracy: > 81.362\n",
            "Test Accuracy: > 68.530\n",
            "Validation Accuracy:> 69.760\n"
          ]
        }
      ],
      "source": [
        "#compile,fit, and evaluate\n",
        "#Optimize my model \n",
        "opt = SGD(lr=0.001, momentum=0.9)\n",
        "model.compile(optimizer=opt, loss='sparse_categorical_crossentropy', metrics=['accuracy'])\n",
        "\n",
        "# fit model\n",
        "history = model.fit(x_train, y_train, epochs=30, use_multiprocessing=False, batch_size=64, \n",
        "                    validation_data=(x_val,y_val),steps_per_epoch= 100)\n",
        "\n",
        "#evaluate model\n",
        "_, acc = model.evaluate(x_train, y_train, verbose=0)\n",
        "print('Train Acuuracy: > %.3f' % (acc * 100.0))\n",
        "\n",
        "_, acc = model.evaluate(x_test, y_test, verbose=0)\n",
        "print('Test Accuracy: > %.3f' % (acc * 100.0))\n",
        "\n",
        "_, acc = model.evaluate(x_val, y_val, verbose=0)\n",
        "print('Validation Accuracy:> %.3f' % (acc * 100.0))\n",
        "\n",
        "\n"
      ]
    },
    {
      "cell_type": "markdown",
      "source": [
        "##Train Acuuracy: > 81.362\n",
        "##Test Accuracy: > 68.530\n",
        "##Validation Accuracy:> 69.760"
      ],
      "metadata": {
        "id": "NNAxMZ_bLlGc"
      }
    },
    {
      "cell_type": "markdown",
      "source": [
        "## Check Elapsed Time of Model\n",
        "\n"
      ],
      "metadata": {
        "id": "c_31L6n9LqPS"
      }
    },
    {
      "cell_type": "code",
      "execution_count": 70,
      "metadata": {
        "id": "uAlvAg6iy466",
        "colab": {
          "base_uri": "https://localhost:8080/"
        },
        "outputId": "e05204f2-5b67-4bc9-ce5c-125e33147a02"
      },
      "outputs": [
        {
          "output_type": "stream",
          "name": "stdout",
          "text": [
            "Training time: 0:00:00.000063\n"
          ]
        }
      ],
      "source": [
        "#Check Elapsed Time\n",
        "t = time.perf_counter()\n",
        "elapsed_time = datetime.timedelta(seconds=(time.perf_counter() - t))\n",
        "print('Training time:', elapsed_time)"
      ]
    },
    {
      "cell_type": "markdown",
      "metadata": {
        "id": "5lGWA07fy8_m"
      },
      "source": [
        "## Visualize Baseline-03 model Output"
      ]
    },
    {
      "cell_type": "code",
      "execution_count": 71,
      "metadata": {
        "id": "6rYQz_TqzDqw",
        "colab": {
          "base_uri": "https://localhost:8080/",
          "height": 545
        },
        "outputId": "45760dc6-c876-4a14-c490-db6e1373bedf"
      },
      "outputs": [
        {
          "output_type": "display_data",
          "data": {
            "text/plain": [
              "<Figure size 432x288 with 1 Axes>"
            ],
            "image/png": "[encoded data removed]"
          },
          "metadata": {
            "needs_background": "light"
          }
        },
        {
          "output_type": "display_data",
          "data": {
            "text/plain": [
              "<Figure size 432x288 with 1 Axes>"
            ],
            "image/png": "[encoded data removed]"
          },
          "metadata": {
            "needs_background": "light"
          }
        }
      ],
      "source": [
        "plt.title('Cross Entropy Loss')\n",
        "plt.plot(history.history['loss'], color='blue', label='train')\n",
        "plt.plot(history.history['val_loss'], color='orange', label='val')\n",
        "plt.legend()\n",
        "plt.show()\n",
        "\n",
        "plt.title('Classification Accuracy')\n",
        "plt.plot(history.history['accuracy'], color='blue', label='train')\n",
        "plt.plot(history.history['val_accuracy'], color='orange', label='val')\n",
        "plt.legend()\n",
        "plt.show()"
      ]
    },
    {
      "cell_type": "markdown",
      "source": [
        "\n",
        "In this case, I used in total 2x4 convolution layers. progressive, starting with 132 to 1024 kernels.\n",
        "and in the end 2 dense layers with 512 & 1024 kernels + the batch normalisatio. I can see that the model rapidly overfits the validation dataset. This is clear if we look at the plot of loss (top plot), we can see that the model’s performance on the training dataset (blue) continues to improve whereas the performance on the test dataset (orange) improves, then starts to get worse and fluctuates at around 15 epochs.\n",
        "\n",
        "Training Graph: 100% complete fit (no loss)\n",
        "Validation Graph: Cross entropy loss starts at approx. 1.50 at 0 epochs, then goes down to reach approx. 0.80 at 5 epoch then fluctuates and overshoots to above 1.50 at 30 epoch.(due to overfitting)"
      ],
      "metadata": {
        "id": "FUu1HvdBqfbd"
      }
    },
    {
      "cell_type": "markdown",
      "metadata": {
        "id": "cXNSLiK3zjYV"
      },
      "source": [
        "## Discussion\n",
        "I have explored three different models.\n",
        "\n",
        "The results can be summarized below, although I must assume some variance in these results given the stochastic nature of the algorithm:\n",
        "\n",
        "##Model 1: 65.880% (validation test)\n",
        "##Model 2: 76.100% (validation test)\n",
        "##Model 3: 76.330% (validation test)\n",
        "## In all cases, the model was able to learn the training dataset, showing an improvement on the training dataset that at least continued to 30 epochs, and perhaps more. This is a good sign, as it shows that the problem is learnable and that all three models have sufficient capacity to learn the problem.\n",
        "\n",
        "## The results of the model on the test dataset showed an improvement in classification accuracy with each increase in the depth of the model. It is possible that this trend would continue if models with five and six layers were evaluated, and this might make an interesting extension. Nevertheless, all three models showed the same pattern of dramatic overfitting at around 15-to-20 epochs.\n",
        "\n",
        "## These results suggest that the model with three convolution layers is a good starting point or baseline model for our investigation.\n",
        "\n",
        "## The results also suggest that the model is in need of regularization to address the rapid overfitting of the validation dataset. More generally, the results suggest that it may be useful to investigate techniques that slow down the convergence (rate of learning) of the model. This may include combining techniques such as dropouts and batch normalization and data augmentation.\n",
        "\n",
        "## In the next section, I will investigate some of these ideas for improving model performance. I will create Model-04 combining Dropout and Data Augmentation and Model-05 combining Dropout and Batch Normalization and I will give comparison between the two models in terms of performance."
      ]
    },
    {
      "cell_type": "markdown",
      "metadata": {
        "id": "6_9VGBhXWfku"
      },
      "source": [
        "## Developing Improved Models\n",
        "\n",
        "## Now that I have established 3 baseline models, with three and four blocks, we can investigate modifications to the model and the training algorithm that seek to improve performance.\n",
        "\n",
        "## We will look at two main areas first to address the severe overfitting observed, namely regularization and data augmentation.\n",
        "\n",
        "## Regularization Techniques\n",
        "## Based on the nature of the overfitting observed above techniques that slow down the rate of convergence might be useful. Hence I will look into the effect of both dropout and Data Augmentation.\n",
        "\n"
      ]
    },
    {
      "cell_type": "markdown",
      "source": [
        "## **Model-04** Dropout and Batch Normalization\n",
        "##In this model my goal is to study whether combining 2 regularization techniques together will result in a better performance than using batch normalization technique (as I did with the previous three baseline models).\n",
        "##Specifically my aim is to check whether using both regularization techniques together results in better performance than using Batch Normalization technique alone.\n",
        "\n",
        "## The updated model definition is listed below.\n",
        " \n",
        "## The updated Model - 04  model (Fixed Dropout and Batch Normalization)\n"
      ],
      "metadata": {
        "id": "L6jYSd7Smxy6"
      }
    },
    {
      "cell_type": "code",
      "source": [
        "#My model network archeticture for baseline model-03 - (Baseline+Batch Normalization) - 4 blocks depth 132,256,512,1024\n",
        "# define cnn model\n",
        "model = ks.Sequential()\n",
        "model.add(Conv2D(132, (3, 3), strides=1, activation='relu', kernel_initializer='he_uniform', padding='same', input_shape=(32, 32, 3)))\n",
        "model.add(BatchNormalization())\n",
        "model.add(Conv2D(132, (3, 3), strides=1, activation='relu', kernel_initializer='he_uniform', padding='same'))\n",
        "model.add(BatchNormalization())\n",
        "model.add(MaxPooling2D((2, 2)))\n",
        "model.add(Dropout(0.2))\n",
        "model.add(Conv2D(256, (3, 3), strides=1, activation='relu', kernel_initializer='he_uniform', padding='same'))\n",
        "model.add(BatchNormalization())\n",
        "model.add(Conv2D(256, (3, 3), strides=1, activation='relu', kernel_initializer='he_uniform', padding='same'))\n",
        "model.add(BatchNormalization())\n",
        "model.add(MaxPooling2D((2, 2)))\n",
        "model.add(Dropout(0.2))\n",
        "model.add(Conv2D(512, (3, 3), strides=1, activation='relu', kernel_initializer='he_uniform', padding='same'))\n",
        "model.add(BatchNormalization())\n",
        "model.add(Conv2D(512, (3, 3), strides=1, activation='relu', kernel_initializer='he_uniform', padding='same'))\n",
        "model.add(BatchNormalization())\n",
        "model.add(MaxPooling2D((2, 2)))\n",
        "model.add(Dropout(0.2))\n",
        "model.add(Conv2D(1024, (3, 3), strides=1, activation='relu', kernel_initializer='he_uniform', padding='same'))\n",
        "model.add(BatchNormalization())\n",
        "model.add(Conv2D(1024, (3, 3), strides=1, activation='relu', kernel_initializer='he_uniform', padding='same'))\n",
        "model.add(BatchNormalization())\n",
        "model.add(MaxPooling2D((2, 2)))\n",
        "model.add(Dropout(0.2))\n",
        "\n",
        "#Output part of the model\n",
        "model.add(Flatten())\n",
        "model.add(Dense(512, activation='relu', kernel_initializer='he_uniform'))\n",
        "model.add(BatchNormalization())\n",
        "model.add(Dense(1024, activation='relu', kernel_initializer='he_uniform'))\n",
        "model.add(BatchNormalization())\n",
        "model.add(Dropout(0.2))\n",
        "model.add(Dense(10, activation='softmax'))\n",
        "\n",
        "#review my model\n",
        "model.summary()\n",
        "\n",
        "\n",
        "\n",
        "\n",
        " "
      ],
      "metadata": {
        "id": "LRXSOFg6nr18",
        "colab": {
          "base_uri": "https://localhost:8080/"
        },
        "outputId": "fa03bc43-7c74-43b2-fda5-3a6ed5a18194"
      },
      "execution_count": 72,
      "outputs": [
        {
          "output_type": "stream",
          "name": "stdout",
          "text": [
            "Model: \"sequential_21\"\n",
            "_________________________________________________________________\n",
            " Layer (type)                Output Shape              Param #   \n",
            "=================================================================\n",
            " conv2d_146 (Conv2D)         (None, 32, 32, 132)       3696      \n",
            "                                                                 \n",
            " batch_normalization_140 (Ba  (None, 32, 32, 132)      528       \n",
            " tchNormalization)                                               \n",
            "                                                                 \n",
            " conv2d_147 (Conv2D)         (None, 32, 32, 132)       156948    \n",
            "                                                                 \n",
            " batch_normalization_141 (Ba  (None, 32, 32, 132)      528       \n",
            " tchNormalization)                                               \n",
            "                                                                 \n",
            " max_pooling2d_73 (MaxPoolin  (None, 16, 16, 132)      0         \n",
            " g2D)                                                            \n",
            "                                                                 \n",
            " dropout_82 (Dropout)        (None, 16, 16, 132)       0         \n",
            "                                                                 \n",
            " conv2d_148 (Conv2D)         (None, 16, 16, 256)       304384    \n",
            "                                                                 \n",
            " batch_normalization_142 (Ba  (None, 16, 16, 256)      1024      \n",
            " tchNormalization)                                               \n",
            "                                                                 \n",
            " conv2d_149 (Conv2D)         (None, 16, 16, 256)       590080    \n",
            "                                                                 \n",
            " batch_normalization_143 (Ba  (None, 16, 16, 256)      1024      \n",
            " tchNormalization)                                               \n",
            "                                                                 \n",
            " max_pooling2d_74 (MaxPoolin  (None, 8, 8, 256)        0         \n",
            " g2D)                                                            \n",
            "                                                                 \n",
            " dropout_83 (Dropout)        (None, 8, 8, 256)         0         \n",
            "                                                                 \n",
            " conv2d_150 (Conv2D)         (None, 8, 8, 512)         1180160   \n",
            "                                                                 \n",
            " batch_normalization_144 (Ba  (None, 8, 8, 512)        2048      \n",
            " tchNormalization)                                               \n",
            "                                                                 \n",
            " conv2d_151 (Conv2D)         (None, 8, 8, 512)         2359808   \n",
            "                                                                 \n",
            " batch_normalization_145 (Ba  (None, 8, 8, 512)        2048      \n",
            " tchNormalization)                                               \n",
            "                                                                 \n",
            " max_pooling2d_75 (MaxPoolin  (None, 4, 4, 512)        0         \n",
            " g2D)                                                            \n",
            "                                                                 \n",
            " dropout_84 (Dropout)        (None, 4, 4, 512)         0         \n",
            "                                                                 \n",
            " conv2d_152 (Conv2D)         (None, 4, 4, 1024)        4719616   \n",
            "                                                                 \n",
            " batch_normalization_146 (Ba  (None, 4, 4, 1024)       4096      \n",
            " tchNormalization)                                               \n",
            "                                                                 \n",
            " conv2d_153 (Conv2D)         (None, 4, 4, 1024)        9438208   \n",
            "                                                                 \n",
            " batch_normalization_147 (Ba  (None, 4, 4, 1024)       4096      \n",
            " tchNormalization)                                               \n",
            "                                                                 \n",
            " max_pooling2d_76 (MaxPoolin  (None, 2, 2, 1024)       0         \n",
            " g2D)                                                            \n",
            "                                                                 \n",
            " dropout_85 (Dropout)        (None, 2, 2, 1024)        0         \n",
            "                                                                 \n",
            " flatten_19 (Flatten)        (None, 4096)              0         \n",
            "                                                                 \n",
            " dense_56 (Dense)            (None, 512)               2097664   \n",
            "                                                                 \n",
            " batch_normalization_148 (Ba  (None, 512)              2048      \n",
            " tchNormalization)                                               \n",
            "                                                                 \n",
            " dense_57 (Dense)            (None, 1024)              525312    \n",
            "                                                                 \n",
            " batch_normalization_149 (Ba  (None, 1024)             4096      \n",
            " tchNormalization)                                               \n",
            "                                                                 \n",
            " dropout_86 (Dropout)        (None, 1024)              0         \n",
            "                                                                 \n",
            " dense_58 (Dense)            (None, 10)                10250     \n",
            "                                                                 \n",
            "=================================================================\n",
            "Total params: 21,407,662\n",
            "Trainable params: 21,396,894\n",
            "Non-trainable params: 10,768\n",
            "_________________________________________________________________\n"
          ]
        }
      ]
    },
    {
      "cell_type": "markdown",
      "source": [
        "**Early Stopping**\n",
        "\n",
        "We prevent overfitting by stopping when after 10 epochs and the validation error does not decrease (we are in a plateau)"
      ],
      "metadata": {
        "id": "azVtdMj00aBF"
      }
    },
    {
      "cell_type": "code",
      "source": [
        "callback_val_loss = EarlyStopping(monitor=\"val_loss\", patience=5)\n",
        "callback_val_accuracy = EarlyStopping(monitor=\"val_accuracy\", patience=10)"
      ],
      "metadata": {
        "id": "6s0ISLEJ0a7H"
      },
      "execution_count": 73,
      "outputs": []
    },
    {
      "cell_type": "markdown",
      "source": [
        "## Compile, Fit, Evaluate Model -04"
      ],
      "metadata": {
        "id": "0PgEzYnmzjLT"
      }
    },
    {
      "cell_type": "code",
      "source": [
        "#compile,fit, and evaluate\n",
        "#Optimize my model \n",
        "opt = SGD(lr=0.001, momentum=0.9)\n",
        "model.compile(optimizer=opt, loss='sparse_categorical_crossentropy', metrics=['accuracy'])\n",
        "\n",
        "# fit model\n",
        "history = model.fit(x_train, y_train, epochs=60, use_multiprocessing=False, batch_size=64, \n",
        "                    validation_data=(x_val,y_val),steps_per_epoch= 100)\n",
        "\n",
        "#evaluate model\n",
        "_, acc = model.evaluate(x_train, y_train, verbose=0)\n",
        "print('Train Acuuracy: > %.3f' % (acc * 100.0))\n",
        "\n",
        "_, acc = model.evaluate(x_test, y_test, verbose=0)\n",
        "print('Test Accuracy: > %.3f' % (acc * 100.0))\n",
        "\n",
        "_, acc = model.evaluate(x_val, y_val, verbose=0)\n",
        "print('Validation Accuracy:> %.3f' % (acc * 100.0))\n",
        "\n",
        "\n"
      ],
      "metadata": {
        "colab": {
          "base_uri": "https://localhost:8080/"
        },
        "id": "ksemZ8Asx1M9",
        "outputId": "b1743740-8007-44b0-a6c6-948881fd75e0"
      },
      "execution_count": 74,
      "outputs": [
        {
          "output_type": "stream",
          "name": "stdout",
          "text": [
            "Epoch 1/60\n",
            "100/100 [==============================] - 14s 142ms/step - loss: 2.4844 - accuracy: 0.2463 - val_loss: 6.0902 - val_accuracy: 0.1433\n",
            "Epoch 2/60\n",
            "100/100 [==============================] - 15s 149ms/step - loss: 1.9900 - accuracy: 0.3369 - val_loss: 1.6426 - val_accuracy: 0.4295\n",
            "Epoch 3/60\n",
            "100/100 [==============================] - 15s 146ms/step - loss: 1.7719 - accuracy: 0.3858 - val_loss: 1.5785 - val_accuracy: 0.4531\n",
            "Epoch 4/60\n",
            "100/100 [==============================] - 14s 143ms/step - loss: 1.6866 - accuracy: 0.4108 - val_loss: 1.5300 - val_accuracy: 0.4537\n",
            "Epoch 5/60\n",
            "100/100 [==============================] - 14s 142ms/step - loss: 1.5980 - accuracy: 0.4477 - val_loss: 1.4153 - val_accuracy: 0.4952\n",
            "Epoch 6/60\n",
            "100/100 [==============================] - 14s 142ms/step - loss: 1.5441 - accuracy: 0.4595 - val_loss: 1.4493 - val_accuracy: 0.4854\n",
            "Epoch 7/60\n",
            "100/100 [==============================] - 14s 143ms/step - loss: 1.4767 - accuracy: 0.4719 - val_loss: 1.4304 - val_accuracy: 0.4949\n",
            "Epoch 8/60\n",
            "100/100 [==============================] - 14s 143ms/step - loss: 1.4434 - accuracy: 0.4898 - val_loss: 1.4813 - val_accuracy: 0.4894\n",
            "Epoch 9/60\n",
            "100/100 [==============================] - 14s 141ms/step - loss: 1.3900 - accuracy: 0.5088 - val_loss: 1.3662 - val_accuracy: 0.5229\n",
            "Epoch 10/60\n",
            "100/100 [==============================] - 14s 142ms/step - loss: 1.3390 - accuracy: 0.5292 - val_loss: 1.3065 - val_accuracy: 0.5434\n",
            "Epoch 11/60\n",
            "100/100 [==============================] - 14s 141ms/step - loss: 1.3259 - accuracy: 0.5341 - val_loss: 1.4034 - val_accuracy: 0.5240\n",
            "Epoch 12/60\n",
            "100/100 [==============================] - 18s 181ms/step - loss: 1.2510 - accuracy: 0.5567 - val_loss: 1.2826 - val_accuracy: 0.5613\n",
            "Epoch 13/60\n",
            "100/100 [==============================] - 18s 176ms/step - loss: 1.2674 - accuracy: 0.5500 - val_loss: 1.3736 - val_accuracy: 0.5418\n",
            "Epoch 14/60\n",
            "100/100 [==============================] - 18s 181ms/step - loss: 1.1954 - accuracy: 0.5752 - val_loss: 1.2641 - val_accuracy: 0.5582\n",
            "Epoch 15/60\n",
            "100/100 [==============================] - 16s 160ms/step - loss: 1.1836 - accuracy: 0.5727 - val_loss: 1.3697 - val_accuracy: 0.5519\n",
            "Epoch 16/60\n",
            "100/100 [==============================] - 17s 169ms/step - loss: 1.1563 - accuracy: 0.5919 - val_loss: 1.2216 - val_accuracy: 0.5803\n",
            "Epoch 17/60\n",
            "100/100 [==============================] - 16s 163ms/step - loss: 1.1170 - accuracy: 0.6070 - val_loss: 1.1584 - val_accuracy: 0.6010\n",
            "Epoch 18/60\n",
            "100/100 [==============================] - 15s 149ms/step - loss: 1.1340 - accuracy: 0.5981 - val_loss: 1.1194 - val_accuracy: 0.6101\n",
            "Epoch 19/60\n",
            "100/100 [==============================] - 17s 168ms/step - loss: 1.0933 - accuracy: 0.6116 - val_loss: 1.0836 - val_accuracy: 0.6188\n",
            "Epoch 20/60\n",
            "100/100 [==============================] - 19s 186ms/step - loss: 1.0333 - accuracy: 0.6341 - val_loss: 1.1039 - val_accuracy: 0.6183\n",
            "Epoch 21/60\n",
            "100/100 [==============================] - 18s 176ms/step - loss: 1.0297 - accuracy: 0.6350 - val_loss: 1.1500 - val_accuracy: 0.6099\n",
            "Epoch 22/60\n",
            "100/100 [==============================] - 18s 185ms/step - loss: 0.9906 - accuracy: 0.6442 - val_loss: 1.0981 - val_accuracy: 0.6231\n",
            "Epoch 23/60\n",
            "100/100 [==============================] - 17s 173ms/step - loss: 0.9832 - accuracy: 0.6528 - val_loss: 1.0594 - val_accuracy: 0.6387\n",
            "Epoch 24/60\n",
            "100/100 [==============================] - 17s 166ms/step - loss: 0.9793 - accuracy: 0.6495 - val_loss: 0.9705 - val_accuracy: 0.6588\n",
            "Epoch 25/60\n",
            "100/100 [==============================] - 18s 185ms/step - loss: 0.9974 - accuracy: 0.6463 - val_loss: 0.9677 - val_accuracy: 0.6637\n",
            "Epoch 26/60\n",
            "100/100 [==============================] - 17s 166ms/step - loss: 0.9431 - accuracy: 0.6650 - val_loss: 0.9876 - val_accuracy: 0.6620\n",
            "Epoch 27/60\n",
            "100/100 [==============================] - 15s 150ms/step - loss: 0.9155 - accuracy: 0.6791 - val_loss: 1.0103 - val_accuracy: 0.6516\n",
            "Epoch 28/60\n",
            "100/100 [==============================] - 15s 148ms/step - loss: 0.8944 - accuracy: 0.6817 - val_loss: 0.9883 - val_accuracy: 0.6584\n",
            "Epoch 29/60\n",
            "100/100 [==============================] - 15s 155ms/step - loss: 0.9050 - accuracy: 0.6845 - val_loss: 1.0138 - val_accuracy: 0.6580\n",
            "Epoch 30/60\n",
            "100/100 [==============================] - 18s 179ms/step - loss: 0.9006 - accuracy: 0.6809 - val_loss: 1.0043 - val_accuracy: 0.6564\n",
            "Epoch 31/60\n",
            "100/100 [==============================] - 15s 149ms/step - loss: 0.8839 - accuracy: 0.6948 - val_loss: 0.9165 - val_accuracy: 0.6794\n",
            "Epoch 32/60\n",
            "100/100 [==============================] - 14s 142ms/step - loss: 0.8550 - accuracy: 0.6945 - val_loss: 0.9954 - val_accuracy: 0.6606\n",
            "Epoch 33/60\n",
            "100/100 [==============================] - 16s 158ms/step - loss: 0.8118 - accuracy: 0.7163 - val_loss: 0.8789 - val_accuracy: 0.6960\n",
            "Epoch 34/60\n",
            "100/100 [==============================] - 14s 142ms/step - loss: 0.7999 - accuracy: 0.7194 - val_loss: 0.8535 - val_accuracy: 0.7069\n",
            "Epoch 35/60\n",
            "100/100 [==============================] - 14s 142ms/step - loss: 0.8125 - accuracy: 0.7127 - val_loss: 0.9163 - val_accuracy: 0.6831\n",
            "Epoch 36/60\n",
            "100/100 [==============================] - 14s 145ms/step - loss: 0.8047 - accuracy: 0.7242 - val_loss: 1.0119 - val_accuracy: 0.6664\n",
            "Epoch 37/60\n",
            "100/100 [==============================] - 15s 148ms/step - loss: 0.8035 - accuracy: 0.7191 - val_loss: 0.8353 - val_accuracy: 0.7104\n",
            "Epoch 38/60\n",
            "100/100 [==============================] - 15s 154ms/step - loss: 0.7559 - accuracy: 0.7295 - val_loss: 0.9410 - val_accuracy: 0.6760\n",
            "Epoch 39/60\n",
            "100/100 [==============================] - 15s 147ms/step - loss: 0.7285 - accuracy: 0.7394 - val_loss: 0.8603 - val_accuracy: 0.7104\n",
            "Epoch 40/60\n",
            "100/100 [==============================] - 17s 168ms/step - loss: 0.7596 - accuracy: 0.7291 - val_loss: 0.8934 - val_accuracy: 0.6961\n",
            "Epoch 41/60\n",
            "100/100 [==============================] - 14s 142ms/step - loss: 0.7584 - accuracy: 0.7345 - val_loss: 0.8225 - val_accuracy: 0.7164\n",
            "Epoch 42/60\n",
            "100/100 [==============================] - 15s 146ms/step - loss: 0.7526 - accuracy: 0.7327 - val_loss: 0.8697 - val_accuracy: 0.7071\n",
            "Epoch 43/60\n",
            "100/100 [==============================] - 14s 142ms/step - loss: 0.7502 - accuracy: 0.7336 - val_loss: 0.7597 - val_accuracy: 0.7348\n",
            "Epoch 44/60\n",
            "100/100 [==============================] - 15s 147ms/step - loss: 0.7354 - accuracy: 0.7394 - val_loss: 0.8236 - val_accuracy: 0.7190\n",
            "Epoch 45/60\n",
            "100/100 [==============================] - 14s 145ms/step - loss: 0.6850 - accuracy: 0.7550 - val_loss: 0.8446 - val_accuracy: 0.7129\n",
            "Epoch 46/60\n",
            "100/100 [==============================] - 14s 142ms/step - loss: 0.6810 - accuracy: 0.7548 - val_loss: 0.8055 - val_accuracy: 0.7296\n",
            "Epoch 47/60\n",
            "100/100 [==============================] - 14s 142ms/step - loss: 0.6710 - accuracy: 0.7578 - val_loss: 0.8149 - val_accuracy: 0.7254\n",
            "Epoch 48/60\n",
            "100/100 [==============================] - 14s 141ms/step - loss: 0.6842 - accuracy: 0.7580 - val_loss: 0.8073 - val_accuracy: 0.7250\n",
            "Epoch 49/60\n",
            "100/100 [==============================] - 14s 141ms/step - loss: 0.6838 - accuracy: 0.7552 - val_loss: 0.8008 - val_accuracy: 0.7272\n",
            "Epoch 50/60\n",
            "100/100 [==============================] - 14s 141ms/step - loss: 0.6887 - accuracy: 0.7584 - val_loss: 0.7911 - val_accuracy: 0.7357\n",
            "Epoch 51/60\n",
            "100/100 [==============================] - 14s 144ms/step - loss: 0.6106 - accuracy: 0.7828 - val_loss: 0.7431 - val_accuracy: 0.7474\n",
            "Epoch 52/60\n",
            "100/100 [==============================] - 14s 141ms/step - loss: 0.6153 - accuracy: 0.7820 - val_loss: 0.8148 - val_accuracy: 0.7283\n",
            "Epoch 53/60\n",
            "100/100 [==============================] - 14s 141ms/step - loss: 0.6244 - accuracy: 0.7784 - val_loss: 0.7581 - val_accuracy: 0.7455\n",
            "Epoch 54/60\n",
            "100/100 [==============================] - 14s 142ms/step - loss: 0.6298 - accuracy: 0.7766 - val_loss: 0.7561 - val_accuracy: 0.7451\n",
            "Epoch 55/60\n",
            "100/100 [==============================] - 14s 141ms/step - loss: 0.6388 - accuracy: 0.7752 - val_loss: 0.7649 - val_accuracy: 0.7397\n",
            "Epoch 56/60\n",
            "100/100 [==============================] - 14s 142ms/step - loss: 0.6151 - accuracy: 0.7759 - val_loss: 0.7409 - val_accuracy: 0.7485\n",
            "Epoch 57/60\n",
            "100/100 [==============================] - 15s 148ms/step - loss: 0.5760 - accuracy: 0.7964 - val_loss: 0.7810 - val_accuracy: 0.7423\n",
            "Epoch 58/60\n",
            "100/100 [==============================] - 14s 141ms/step - loss: 0.5797 - accuracy: 0.7961 - val_loss: 0.7289 - val_accuracy: 0.7548\n",
            "Epoch 59/60\n",
            "100/100 [==============================] - 14s 141ms/step - loss: 0.5653 - accuracy: 0.8019 - val_loss: 0.8534 - val_accuracy: 0.7199\n",
            "Epoch 60/60\n",
            "100/100 [==============================] - 14s 141ms/step - loss: 0.5808 - accuracy: 0.7945 - val_loss: 0.7362 - val_accuracy: 0.7550\n",
            "Train Acuuracy: > 85.013\n",
            "Test Accuracy: > 75.230\n",
            "Validation Accuracy:> 75.500\n"
          ]
        }
      ]
    },
    {
      "cell_type": "markdown",
      "source": [
        "##Train Acuuracy: > 85.013\n",
        "##Test Accuracy: > 75.230\n",
        "##Validation Accuracy:> 75.500"
      ],
      "metadata": {
        "id": "5KTDqKEePva-"
      }
    },
    {
      "cell_type": "markdown",
      "source": [
        "##Note: I noticed my results  vary given the stochastic nature of the algorithm or evaluation procedure, or differences in numerical precision. I run the example a few times and compare the average outcome."
      ],
      "metadata": {
        "id": "Z0mXpxVOP-Qg"
      }
    },
    {
      "cell_type": "markdown",
      "source": [
        "## Conclusion\n",
        "\n",
        "##Here adding the Fixed Dropout layers together with the BatchNormalization improved the model performance (still not achieving the objectives although close to it).Also not to forget adding steps between my epochs reduced waiting time and enhanced model performance.\n",
        "##Model-04 Accuarcy:\n",
        "\n"
      ],
      "metadata": {
        "id": "XyiUMI8b9lnM"
      }
    },
    {
      "cell_type": "markdown",
      "source": [
        "## Plot the Results of Model-04"
      ],
      "metadata": {
        "id": "slIpMkY2nwLa"
      }
    },
    {
      "cell_type": "code",
      "source": [
        "plt.title('Cross Entropy Loss')\n",
        "plt.plot(history.history['loss'], color='blue', label='train')\n",
        "plt.plot(history.history['val_loss'], color='orange', label='val')\n",
        "plt.legend()\n",
        "plt.show()\n",
        "\n",
        "plt.title('Classification Accuracy')\n",
        "plt.plot(history.history['accuracy'], color='blue', label='train')\n",
        "plt.plot(history.history['val_accuracy'], color='orange', label='val')\n",
        "plt.legend()\n",
        "plt.show()"
      ],
      "metadata": {
        "id": "F31GB5wGzt4J",
        "colab": {
          "base_uri": "https://localhost:8080/",
          "height": 545
        },
        "outputId": "1007c851-725c-476c-fcaa-5ad920e18f83"
      },
      "execution_count": 54,
      "outputs": [
        {
          "output_type": "display_data",
          "data": {
            "text/plain": [
              "<Figure size 432x288 with 1 Axes>"
            ],
            "image/png": "[encoded data removed]"
          },
          "metadata": {
            "needs_background": "light"
          }
        },
        {
          "output_type": "display_data",
          "data": {
            "text/plain": [
              "<Figure size 432x288 with 1 Axes>"
            ],
            "image/png": "[encoded data removed]"
          },
          "metadata": {
            "needs_background": "light"
          }
        }
      ]
    },
    {
      "cell_type": "markdown",
      "source": [
        "## **Model-05** - Dropout and Batch Normalization (Expanded Version)\n",
        "\n",
        "## In previous model I can monitor that Dropout is working very well. Next model I will add some extra remediation steps to my model to increase number of training epochs to 100 and add steps for early stop to 500 to give model more of an opportunity to improve. Next, I can add batch normalization in an effort to stabilize the learning and perhaps accelerate the learning process. To offset this acceleration."
      ],
      "metadata": {
        "id": "yyp9pdkRYb5i"
      }
    },
    {
      "cell_type": "markdown",
      "metadata": {
        "id": "z88iiaeNXy67"
      },
      "source": [
        "## The updated model definition is listed below.\n",
        " \n",
        "## The updated Model - 05  model (Dropout and Batch Normalization with increased epoch=100 and increased step per stop=500)\n"
      ]
    },
    {
      "cell_type": "code",
      "execution_count": 47,
      "metadata": {
        "id": "0SDKhv8HxBID",
        "colab": {
          "base_uri": "https://localhost:8080/"
        },
        "outputId": "347f59c6-a395-4dd7-91ac-644937a5d750"
      },
      "outputs": [
        {
          "output_type": "stream",
          "name": "stdout",
          "text": [
            "Model: \"sequential_16\"\n",
            "_________________________________________________________________\n",
            " Layer (type)                Output Shape              Param #   \n",
            "=================================================================\n",
            " conv2d_112 (Conv2D)         (None, 32, 32, 132)       3696      \n",
            "                                                                 \n",
            " batch_normalization_109 (Ba  (None, 32, 32, 132)      528       \n",
            " tchNormalization)                                               \n",
            "                                                                 \n",
            " conv2d_113 (Conv2D)         (None, 32, 32, 132)       156948    \n",
            "                                                                 \n",
            " batch_normalization_110 (Ba  (None, 32, 32, 132)      528       \n",
            " tchNormalization)                                               \n",
            "                                                                 \n",
            " max_pooling2d_56 (MaxPoolin  (None, 16, 16, 132)      0         \n",
            " g2D)                                                            \n",
            "                                                                 \n",
            " dropout_72 (Dropout)        (None, 16, 16, 132)       0         \n",
            "                                                                 \n",
            " conv2d_114 (Conv2D)         (None, 16, 16, 256)       304384    \n",
            "                                                                 \n",
            " batch_normalization_111 (Ba  (None, 16, 16, 256)      1024      \n",
            " tchNormalization)                                               \n",
            "                                                                 \n",
            " conv2d_115 (Conv2D)         (None, 16, 16, 256)       590080    \n",
            "                                                                 \n",
            " batch_normalization_112 (Ba  (None, 16, 16, 256)      1024      \n",
            " tchNormalization)                                               \n",
            "                                                                 \n",
            " max_pooling2d_57 (MaxPoolin  (None, 8, 8, 256)        0         \n",
            " g2D)                                                            \n",
            "                                                                 \n",
            " dropout_73 (Dropout)        (None, 8, 8, 256)         0         \n",
            "                                                                 \n",
            " conv2d_116 (Conv2D)         (None, 8, 8, 512)         1180160   \n",
            "                                                                 \n",
            " batch_normalization_113 (Ba  (None, 8, 8, 512)        2048      \n",
            " tchNormalization)                                               \n",
            "                                                                 \n",
            " conv2d_117 (Conv2D)         (None, 8, 8, 512)         2359808   \n",
            "                                                                 \n",
            " batch_normalization_114 (Ba  (None, 8, 8, 512)        2048      \n",
            " tchNormalization)                                               \n",
            "                                                                 \n",
            " max_pooling2d_58 (MaxPoolin  (None, 4, 4, 512)        0         \n",
            " g2D)                                                            \n",
            "                                                                 \n",
            " dropout_74 (Dropout)        (None, 4, 4, 512)         0         \n",
            "                                                                 \n",
            " conv2d_118 (Conv2D)         (None, 4, 4, 1024)        4719616   \n",
            "                                                                 \n",
            " batch_normalization_115 (Ba  (None, 4, 4, 1024)       4096      \n",
            " tchNormalization)                                               \n",
            "                                                                 \n",
            " conv2d_119 (Conv2D)         (None, 4, 4, 1024)        9438208   \n",
            "                                                                 \n",
            " batch_normalization_116 (Ba  (None, 4, 4, 1024)       4096      \n",
            " tchNormalization)                                               \n",
            "                                                                 \n",
            " max_pooling2d_59 (MaxPoolin  (None, 2, 2, 1024)       0         \n",
            " g2D)                                                            \n",
            "                                                                 \n",
            " dropout_75 (Dropout)        (None, 2, 2, 1024)        0         \n",
            "                                                                 \n",
            " flatten_14 (Flatten)        (None, 4096)              0         \n",
            "                                                                 \n",
            " dense_40 (Dense)            (None, 512)               2097664   \n",
            "                                                                 \n",
            " batch_normalization_117 (Ba  (None, 512)              2048      \n",
            " tchNormalization)                                               \n",
            "                                                                 \n",
            " dense_41 (Dense)            (None, 1024)              525312    \n",
            "                                                                 \n",
            " batch_normalization_118 (Ba  (None, 1024)             4096      \n",
            " tchNormalization)                                               \n",
            "                                                                 \n",
            " dropout_76 (Dropout)        (None, 1024)              0         \n",
            "                                                                 \n",
            " dense_42 (Dense)            (None, 10)                10250     \n",
            "                                                                 \n",
            "=================================================================\n",
            "Total params: 21,407,662\n",
            "Trainable params: 21,396,894\n",
            "Non-trainable params: 10,768\n",
            "_________________________________________________________________\n"
          ]
        }
      ],
      "source": [
        "#My model network archeticture for baseline model-03 - (Baseline+Batch Normalization) - 4 blocks depth 132,256,512,1024\n",
        "# define cnn model\n",
        "model = ks.Sequential()\n",
        "model.add(Conv2D(132, (3, 3), strides=1, activation='relu', kernel_initializer='he_uniform', padding='same', input_shape=(32, 32, 3)))\n",
        "model.add(BatchNormalization())\n",
        "model.add(Conv2D(132, (3, 3), strides=1, activation='relu', kernel_initializer='he_uniform', padding='same'))\n",
        "model.add(BatchNormalization())\n",
        "model.add(MaxPooling2D((2, 2)))\n",
        "model.add(Dropout(0.2))\n",
        "model.add(Conv2D(256, (3, 3), strides=1, activation='relu', kernel_initializer='he_uniform', padding='same'))\n",
        "model.add(BatchNormalization())\n",
        "model.add(Conv2D(256, (3, 3), strides=1, activation='relu', kernel_initializer='he_uniform', padding='same'))\n",
        "model.add(BatchNormalization())\n",
        "model.add(MaxPooling2D((2, 2)))\n",
        "model.add(Dropout(0.2))\n",
        "model.add(Conv2D(512, (3, 3), strides=1, activation='relu', kernel_initializer='he_uniform', padding='same'))\n",
        "model.add(BatchNormalization())\n",
        "model.add(Conv2D(512, (3, 3), strides=1, activation='relu', kernel_initializer='he_uniform', padding='same'))\n",
        "model.add(BatchNormalization())\n",
        "model.add(MaxPooling2D((2, 2)))\n",
        "model.add(Dropout(0.2))\n",
        "model.add(Conv2D(1024, (3, 3), strides=1, activation='relu', kernel_initializer='he_uniform', padding='same'))\n",
        "model.add(BatchNormalization())\n",
        "model.add(Conv2D(1024, (3, 3), strides=1, activation='relu', kernel_initializer='he_uniform', padding='same'))\n",
        "model.add(BatchNormalization())\n",
        "model.add(MaxPooling2D((2, 2)))\n",
        "model.add(Dropout(0.2))\n",
        "\n",
        "#Output part of the model\n",
        "model.add(Flatten())\n",
        "model.add(Dense(512, activation='relu', kernel_initializer='he_uniform'))\n",
        "model.add(BatchNormalization())\n",
        "model.add(Dense(1024, activation='relu', kernel_initializer='he_uniform'))\n",
        "model.add(BatchNormalization())\n",
        "model.add(Dropout(0.2))\n",
        "model.add(Dense(10, activation='softmax'))\n",
        "\n",
        "#review my model\n",
        "model.summary()\n",
        "\n",
        "\n",
        "\n",
        "\n",
        " "
      ]
    },
    {
      "cell_type": "markdown",
      "source": [
        "**Early Stopping**\n",
        "\n",
        "We prevent overfitting by stopping when after 10 epochs and the validation error does not decrease (we are in a plateau). In next model I use steps per stop=500 for 100 epochs."
      ],
      "metadata": {
        "id": "oJ9GyqiR9JrO"
      }
    },
    {
      "cell_type": "code",
      "source": [
        "callback_val_loss = EarlyStopping(monitor=\"val_loss\", patience=5)\n",
        "callback_val_accuracy = EarlyStopping(monitor=\"val_accuracy\", patience=10)"
      ],
      "metadata": {
        "id": "flaje6xO9KhF"
      },
      "execution_count": 13,
      "outputs": []
    },
    {
      "cell_type": "markdown",
      "metadata": {
        "id": "DNagQXpBZR27"
      },
      "source": [
        "## Compile, Fit, Evaluate Model -05"
      ]
    },
    {
      "cell_type": "code",
      "execution_count": 50,
      "metadata": {
        "id": "jSSw3V7AZVPP",
        "colab": {
          "base_uri": "https://localhost:8080/"
        },
        "outputId": "79bccd83-f964-4524-fd0d-5fdaac134ea5"
      },
      "outputs": [
        {
          "output_type": "stream",
          "name": "stdout",
          "text": [
            "Epoch 1/100\n",
            "500/500 [==============================] - 59s 117ms/step - loss: 1.4004 - accuracy: 0.5035 - val_loss: 1.3204 - val_accuracy: 0.5342\n",
            "Epoch 2/100\n",
            "500/500 [==============================] - 56s 112ms/step - loss: 1.2135 - accuracy: 0.5685 - val_loss: 1.2261 - val_accuracy: 0.5852\n",
            "Epoch 3/100\n",
            "500/500 [==============================] - 56s 111ms/step - loss: 1.0855 - accuracy: 0.6120 - val_loss: 1.0571 - val_accuracy: 0.6291\n",
            "Epoch 4/100\n",
            "500/500 [==============================] - 56s 112ms/step - loss: 0.9812 - accuracy: 0.6497 - val_loss: 1.0317 - val_accuracy: 0.6489\n",
            "Epoch 5/100\n",
            "500/500 [==============================] - 56s 112ms/step - loss: 0.9166 - accuracy: 0.6735 - val_loss: 0.9471 - val_accuracy: 0.6674\n",
            "Epoch 6/100\n",
            "500/500 [==============================] - 63s 127ms/step - loss: 0.8393 - accuracy: 0.7021 - val_loss: 0.9503 - val_accuracy: 0.6741\n",
            "Epoch 7/100\n",
            "500/500 [==============================] - 63s 126ms/step - loss: 0.7671 - accuracy: 0.7285 - val_loss: 0.8764 - val_accuracy: 0.7061\n",
            "Epoch 8/100\n",
            "500/500 [==============================] - 65s 131ms/step - loss: 0.7333 - accuracy: 0.7402 - val_loss: 0.8253 - val_accuracy: 0.7191\n",
            "Epoch 9/100\n",
            "500/500 [==============================] - 62s 124ms/step - loss: 0.6942 - accuracy: 0.7517 - val_loss: 0.7995 - val_accuracy: 0.7250\n",
            "Epoch 10/100\n",
            "500/500 [==============================] - 64s 127ms/step - loss: 0.6485 - accuracy: 0.7707 - val_loss: 0.7305 - val_accuracy: 0.7497\n",
            "Epoch 11/100\n",
            "500/500 [==============================] - 58s 115ms/step - loss: 0.6022 - accuracy: 0.7845 - val_loss: 0.7747 - val_accuracy: 0.7421\n",
            "Epoch 12/100\n",
            "500/500 [==============================] - 56s 112ms/step - loss: 0.5449 - accuracy: 0.8059 - val_loss: 0.7232 - val_accuracy: 0.7608\n",
            "Epoch 13/100\n",
            "500/500 [==============================] - 57s 113ms/step - loss: 0.5326 - accuracy: 0.8092 - val_loss: 0.7004 - val_accuracy: 0.7715\n",
            "Epoch 14/100\n",
            "500/500 [==============================] - 57s 114ms/step - loss: 0.5033 - accuracy: 0.8223 - val_loss: 0.7060 - val_accuracy: 0.7710\n",
            "Epoch 15/100\n",
            "500/500 [==============================] - 56s 112ms/step - loss: 0.4717 - accuracy: 0.8326 - val_loss: 0.7096 - val_accuracy: 0.7715\n",
            "Epoch 16/100\n",
            "500/500 [==============================] - 55s 110ms/step - loss: 0.4315 - accuracy: 0.8472 - val_loss: 0.7289 - val_accuracy: 0.7692\n",
            "Epoch 17/100\n",
            "500/500 [==============================] - 56s 112ms/step - loss: 0.4100 - accuracy: 0.8529 - val_loss: 0.7214 - val_accuracy: 0.7783\n",
            "Epoch 18/100\n",
            "500/500 [==============================] - 56s 113ms/step - loss: 0.3778 - accuracy: 0.8654 - val_loss: 0.6566 - val_accuracy: 0.7933\n",
            "Epoch 19/100\n",
            "500/500 [==============================] - 56s 112ms/step - loss: 0.3556 - accuracy: 0.8732 - val_loss: 0.6651 - val_accuracy: 0.7911\n",
            "Epoch 20/100\n",
            "500/500 [==============================] - 56s 111ms/step - loss: 0.3388 - accuracy: 0.8772 - val_loss: 0.6682 - val_accuracy: 0.7978\n",
            "Epoch 21/100\n",
            "500/500 [==============================] - 56s 112ms/step - loss: 0.2960 - accuracy: 0.8923 - val_loss: 0.6840 - val_accuracy: 0.7924\n",
            "Epoch 22/100\n",
            "500/500 [==============================] - 58s 116ms/step - loss: 0.2910 - accuracy: 0.8965 - val_loss: 0.6930 - val_accuracy: 0.7954\n",
            "Epoch 23/100\n",
            "500/500 [==============================] - 56s 112ms/step - loss: 0.2634 - accuracy: 0.9061 - val_loss: 0.6412 - val_accuracy: 0.8108\n",
            "Epoch 24/100\n",
            "500/500 [==============================] - 56s 112ms/step - loss: 0.2541 - accuracy: 0.9101 - val_loss: 0.6399 - val_accuracy: 0.8132\n",
            "Epoch 25/100\n",
            "500/500 [==============================] - 55s 110ms/step - loss: 0.2343 - accuracy: 0.9158 - val_loss: 0.6939 - val_accuracy: 0.8048\n",
            "Epoch 26/100\n",
            "500/500 [==============================] - 56s 112ms/step - loss: 0.2091 - accuracy: 0.9255 - val_loss: 0.6954 - val_accuracy: 0.8057\n",
            "Epoch 27/100\n",
            "500/500 [==============================] - 56s 113ms/step - loss: 0.1917 - accuracy: 0.9316 - val_loss: 0.7321 - val_accuracy: 0.7998\n",
            "Epoch 28/100\n",
            "500/500 [==============================] - 56s 112ms/step - loss: 0.1813 - accuracy: 0.9345 - val_loss: 0.7238 - val_accuracy: 0.8057\n",
            "Epoch 29/100\n",
            "500/500 [==============================] - 56s 112ms/step - loss: 0.1751 - accuracy: 0.9380 - val_loss: 0.6920 - val_accuracy: 0.8164\n",
            "Epoch 30/100\n",
            "500/500 [==============================] - 55s 109ms/step - loss: 0.1694 - accuracy: 0.9397 - val_loss: 0.7238 - val_accuracy: 0.8077\n",
            "Epoch 31/100\n",
            "500/500 [==============================] - 56s 112ms/step - loss: 0.1442 - accuracy: 0.9488 - val_loss: 0.7471 - val_accuracy: 0.8105\n",
            "Epoch 32/100\n",
            "500/500 [==============================] - 56s 112ms/step - loss: 0.1460 - accuracy: 0.9474 - val_loss: 0.6938 - val_accuracy: 0.8229\n",
            "Epoch 33/100\n",
            "500/500 [==============================] - 56s 111ms/step - loss: 0.1281 - accuracy: 0.9542 - val_loss: 0.7252 - val_accuracy: 0.8216\n",
            "Epoch 34/100\n",
            "500/500 [==============================] - 56s 111ms/step - loss: 0.1263 - accuracy: 0.9543 - val_loss: 0.7178 - val_accuracy: 0.8188\n",
            "Epoch 35/100\n",
            "500/500 [==============================] - 55s 110ms/step - loss: 0.1169 - accuracy: 0.9600 - val_loss: 0.7132 - val_accuracy: 0.8239\n",
            "Epoch 36/100\n",
            "500/500 [==============================] - 55s 110ms/step - loss: 0.1036 - accuracy: 0.9622 - val_loss: 0.7428 - val_accuracy: 0.8197\n",
            "Epoch 37/100\n",
            "500/500 [==============================] - 54s 109ms/step - loss: 0.0977 - accuracy: 0.9652 - val_loss: 0.7878 - val_accuracy: 0.8153\n",
            "Epoch 38/100\n",
            "500/500 [==============================] - 55s 110ms/step - loss: 0.0979 - accuracy: 0.9655 - val_loss: 0.7693 - val_accuracy: 0.8204\n",
            "Epoch 39/100\n",
            "500/500 [==============================] - 54s 109ms/step - loss: 0.0923 - accuracy: 0.9676 - val_loss: 0.7598 - val_accuracy: 0.8203\n",
            "Epoch 40/100\n",
            "500/500 [==============================] - 54s 109ms/step - loss: 0.0875 - accuracy: 0.9693 - val_loss: 0.7715 - val_accuracy: 0.8209\n",
            "Epoch 41/100\n",
            "500/500 [==============================] - 53s 106ms/step - loss: 0.0779 - accuracy: 0.9726 - val_loss: 0.7934 - val_accuracy: 0.8226\n",
            "Epoch 42/100\n",
            "500/500 [==============================] - 53s 106ms/step - loss: 0.0777 - accuracy: 0.9726 - val_loss: 0.8293 - val_accuracy: 0.8191\n",
            "Epoch 43/100\n",
            "500/500 [==============================] - 52s 105ms/step - loss: 0.0765 - accuracy: 0.9729 - val_loss: 0.7873 - val_accuracy: 0.8250\n",
            "Epoch 44/100\n",
            "500/500 [==============================] - 52s 104ms/step - loss: 0.0670 - accuracy: 0.9758 - val_loss: 0.8251 - val_accuracy: 0.8174\n",
            "Epoch 45/100\n",
            "500/500 [==============================] - 53s 106ms/step - loss: 0.0640 - accuracy: 0.9783 - val_loss: 0.8215 - val_accuracy: 0.8262\n",
            "Epoch 46/100\n",
            "500/500 [==============================] - 52s 104ms/step - loss: 0.0626 - accuracy: 0.9782 - val_loss: 0.8083 - val_accuracy: 0.8254\n",
            "Epoch 47/100\n",
            "500/500 [==============================] - 52s 105ms/step - loss: 0.0617 - accuracy: 0.9791 - val_loss: 0.8418 - val_accuracy: 0.8179\n",
            "Epoch 48/100\n",
            "500/500 [==============================] - 53s 105ms/step - loss: 0.0571 - accuracy: 0.9803 - val_loss: 0.8156 - val_accuracy: 0.8269\n",
            "Epoch 49/100\n",
            "500/500 [==============================] - 52s 105ms/step - loss: 0.0568 - accuracy: 0.9801 - val_loss: 0.7911 - val_accuracy: 0.8312\n",
            "Epoch 50/100\n",
            "500/500 [==============================] - 53s 105ms/step - loss: 0.0528 - accuracy: 0.9815 - val_loss: 0.8496 - val_accuracy: 0.8223\n",
            "Epoch 51/100\n",
            "500/500 [==============================] - 52s 105ms/step - loss: 0.0494 - accuracy: 0.9829 - val_loss: 0.8085 - val_accuracy: 0.8277\n",
            "Epoch 52/100\n",
            "500/500 [==============================] - 52s 105ms/step - loss: 0.0499 - accuracy: 0.9829 - val_loss: 0.8180 - val_accuracy: 0.8302\n",
            "Epoch 53/100\n",
            "500/500 [==============================] - 52s 105ms/step - loss: 0.0492 - accuracy: 0.9829 - val_loss: 0.8171 - val_accuracy: 0.8307\n",
            "Epoch 54/100\n",
            "500/500 [==============================] - 52s 105ms/step - loss: 0.0485 - accuracy: 0.9827 - val_loss: 0.8434 - val_accuracy: 0.8268\n",
            "Epoch 55/100\n",
            "500/500 [==============================] - 53s 106ms/step - loss: 0.0403 - accuracy: 0.9860 - val_loss: 0.8114 - val_accuracy: 0.8325\n",
            "Epoch 56/100\n",
            "500/500 [==============================] - 52s 104ms/step - loss: 0.0424 - accuracy: 0.9857 - val_loss: 0.8319 - val_accuracy: 0.8276\n",
            "Epoch 57/100\n",
            "500/500 [==============================] - 52s 105ms/step - loss: 0.0419 - accuracy: 0.9857 - val_loss: 0.8423 - val_accuracy: 0.8264\n",
            "Epoch 58/100\n",
            "500/500 [==============================] - 52s 104ms/step - loss: 0.0372 - accuracy: 0.9872 - val_loss: 0.8213 - val_accuracy: 0.8299\n",
            "Epoch 59/100\n",
            "500/500 [==============================] - 53s 106ms/step - loss: 0.0337 - accuracy: 0.9884 - val_loss: 0.8473 - val_accuracy: 0.8303\n",
            "Epoch 60/100\n",
            "500/500 [==============================] - 53s 106ms/step - loss: 0.0370 - accuracy: 0.9863 - val_loss: 0.8829 - val_accuracy: 0.8254\n",
            "Epoch 61/100\n",
            "500/500 [==============================] - 52s 105ms/step - loss: 0.0367 - accuracy: 0.9879 - val_loss: 0.8738 - val_accuracy: 0.8302\n",
            "Epoch 62/100\n",
            "500/500 [==============================] - 52s 105ms/step - loss: 0.0333 - accuracy: 0.9878 - val_loss: 0.8478 - val_accuracy: 0.8330\n",
            "Epoch 63/100\n",
            "500/500 [==============================] - 53s 105ms/step - loss: 0.0327 - accuracy: 0.9891 - val_loss: 0.8551 - val_accuracy: 0.8314\n",
            "Epoch 64/100\n",
            "500/500 [==============================] - 53s 105ms/step - loss: 0.0365 - accuracy: 0.9869 - val_loss: 0.8660 - val_accuracy: 0.8305\n",
            "Epoch 65/100\n",
            "500/500 [==============================] - 52s 105ms/step - loss: 0.0328 - accuracy: 0.9891 - val_loss: 0.8701 - val_accuracy: 0.8307\n",
            "Epoch 66/100\n",
            "500/500 [==============================] - 53s 105ms/step - loss: 0.0318 - accuracy: 0.9888 - val_loss: 0.8584 - val_accuracy: 0.8347\n",
            "Epoch 67/100\n",
            "500/500 [==============================] - 52s 105ms/step - loss: 0.0293 - accuracy: 0.9897 - val_loss: 0.8967 - val_accuracy: 0.8281\n",
            "Epoch 68/100\n",
            "500/500 [==============================] - 53s 106ms/step - loss: 0.0279 - accuracy: 0.9901 - val_loss: 0.8879 - val_accuracy: 0.8279\n",
            "Epoch 69/100\n",
            "500/500 [==============================] - 52s 105ms/step - loss: 0.0286 - accuracy: 0.9903 - val_loss: 0.9171 - val_accuracy: 0.8296\n",
            "Epoch 70/100\n",
            "500/500 [==============================] - 52s 105ms/step - loss: 0.0318 - accuracy: 0.9884 - val_loss: 0.8865 - val_accuracy: 0.8296\n",
            "Epoch 71/100\n",
            "500/500 [==============================] - 53s 105ms/step - loss: 0.0248 - accuracy: 0.9913 - val_loss: 0.8736 - val_accuracy: 0.8316\n",
            "Epoch 72/100\n",
            "500/500 [==============================] - 52s 105ms/step - loss: 0.0250 - accuracy: 0.9911 - val_loss: 0.8753 - val_accuracy: 0.8329\n",
            "Epoch 73/100\n",
            "500/500 [==============================] - 53s 105ms/step - loss: 0.0275 - accuracy: 0.9907 - val_loss: 0.8746 - val_accuracy: 0.8370\n",
            "Epoch 74/100\n",
            "500/500 [==============================] - 53s 105ms/step - loss: 0.0256 - accuracy: 0.9911 - val_loss: 0.9061 - val_accuracy: 0.8284\n",
            "Epoch 75/100\n",
            "500/500 [==============================] - 52s 105ms/step - loss: 0.0242 - accuracy: 0.9920 - val_loss: 0.9178 - val_accuracy: 0.8285\n",
            "Epoch 76/100\n",
            "500/500 [==============================] - 52s 105ms/step - loss: 0.0252 - accuracy: 0.9918 - val_loss: 0.8876 - val_accuracy: 0.8337\n",
            "Epoch 77/100\n",
            "500/500 [==============================] - 53s 106ms/step - loss: 0.0265 - accuracy: 0.9906 - val_loss: 0.9174 - val_accuracy: 0.8295\n",
            "Epoch 78/100\n",
            "500/500 [==============================] - 53s 105ms/step - loss: 0.0230 - accuracy: 0.9921 - val_loss: 0.8948 - val_accuracy: 0.8337\n",
            "Epoch 79/100\n",
            "500/500 [==============================] - 53s 105ms/step - loss: 0.0221 - accuracy: 0.9922 - val_loss: 0.8905 - val_accuracy: 0.8376\n",
            "Epoch 80/100\n",
            "500/500 [==============================] - 52s 105ms/step - loss: 0.0199 - accuracy: 0.9935 - val_loss: 0.9057 - val_accuracy: 0.8333\n",
            "Epoch 81/100\n",
            "500/500 [==============================] - 52s 105ms/step - loss: 0.0212 - accuracy: 0.9930 - val_loss: 0.9037 - val_accuracy: 0.8344\n",
            "Epoch 82/100\n",
            "500/500 [==============================] - 53s 106ms/step - loss: 0.0225 - accuracy: 0.9926 - val_loss: 0.8786 - val_accuracy: 0.8374\n",
            "Epoch 83/100\n",
            "500/500 [==============================] - 53s 105ms/step - loss: 0.0201 - accuracy: 0.9933 - val_loss: 0.9189 - val_accuracy: 0.8333\n",
            "Epoch 84/100\n",
            "500/500 [==============================] - 52s 105ms/step - loss: 0.0184 - accuracy: 0.9938 - val_loss: 0.9146 - val_accuracy: 0.8302\n",
            "Epoch 85/100\n",
            "500/500 [==============================] - 53s 105ms/step - loss: 0.0207 - accuracy: 0.9933 - val_loss: 0.9272 - val_accuracy: 0.8321\n",
            "Epoch 86/100\n",
            "500/500 [==============================] - 53s 106ms/step - loss: 0.0204 - accuracy: 0.9930 - val_loss: 0.8883 - val_accuracy: 0.8357\n",
            "Epoch 87/100\n",
            "500/500 [==============================] - 53s 105ms/step - loss: 0.0199 - accuracy: 0.9933 - val_loss: 0.9042 - val_accuracy: 0.8369\n",
            "Epoch 88/100\n",
            "500/500 [==============================] - 53s 106ms/step - loss: 0.0178 - accuracy: 0.9944 - val_loss: 0.9271 - val_accuracy: 0.8346\n",
            "Epoch 89/100\n",
            "500/500 [==============================] - 53s 105ms/step - loss: 0.0169 - accuracy: 0.9942 - val_loss: 0.9206 - val_accuracy: 0.8342\n",
            "Epoch 90/100\n",
            "500/500 [==============================] - 53s 106ms/step - loss: 0.0181 - accuracy: 0.9941 - val_loss: 0.9559 - val_accuracy: 0.8290\n",
            "Epoch 91/100\n",
            "500/500 [==============================] - 53s 106ms/step - loss: 0.0194 - accuracy: 0.9930 - val_loss: 0.9193 - val_accuracy: 0.8374\n",
            "Epoch 92/100\n",
            "500/500 [==============================] - 53s 105ms/step - loss: 0.0175 - accuracy: 0.9940 - val_loss: 0.9318 - val_accuracy: 0.8323\n",
            "Epoch 93/100\n",
            "500/500 [==============================] - 53s 105ms/step - loss: 0.0166 - accuracy: 0.9948 - val_loss: 0.9396 - val_accuracy: 0.8315\n",
            "Epoch 94/100\n",
            "500/500 [==============================] - 53s 106ms/step - loss: 0.0152 - accuracy: 0.9951 - val_loss: 0.9482 - val_accuracy: 0.8314\n",
            "Epoch 95/100\n",
            "500/500 [==============================] - 53s 105ms/step - loss: 0.0165 - accuracy: 0.9941 - val_loss: 0.9170 - val_accuracy: 0.8382\n",
            "Epoch 96/100\n",
            "500/500 [==============================] - 53s 105ms/step - loss: 0.0168 - accuracy: 0.9945 - val_loss: 0.9102 - val_accuracy: 0.8397\n",
            "Epoch 97/100\n",
            "500/500 [==============================] - 53s 105ms/step - loss: 0.0151 - accuracy: 0.9948 - val_loss: 0.9625 - val_accuracy: 0.8329\n",
            "Epoch 98/100\n",
            "500/500 [==============================] - 53s 106ms/step - loss: 0.0171 - accuracy: 0.9942 - val_loss: 0.9170 - val_accuracy: 0.8396\n",
            "Epoch 99/100\n",
            "500/500 [==============================] - 53s 106ms/step - loss: 0.0159 - accuracy: 0.9950 - val_loss: 0.9239 - val_accuracy: 0.8355\n",
            "Epoch 100/100\n",
            "500/500 [==============================] - 53s 105ms/step - loss: 0.0151 - accuracy: 0.9945 - val_loss: 0.9363 - val_accuracy: 0.8353\n",
            "Train Acuuracy: > 99.998\n",
            "Test Accuracy: > 83.020\n",
            "Validation Accuracy:> 83.530\n"
          ]
        }
      ],
      "source": [
        "#compile,fit, and evaluate\n",
        "#Optimize my model \n",
        "opt = SGD(lr=0.001, momentum=0.9)\n",
        "model.compile(optimizer=opt, loss='sparse_categorical_crossentropy', metrics=['accuracy'])\n",
        "\n",
        "# fit model\n",
        "history = model.fit(x_train, y_train, epochs=100, use_multiprocessing=False, batch_size=64, \n",
        "                    validation_data=(x_val,y_val),steps_per_epoch= 500)\n",
        "\n",
        "#evaluate model\n",
        "_, acc = model.evaluate(x_train, y_train, verbose=0)\n",
        "print('Train Acuuracy: > %.3f' % (acc * 100.0))\n",
        "\n",
        "_, acc = model.evaluate(x_test, y_test, verbose=0)\n",
        "print('Test Accuracy: > %.3f' % (acc * 100.0))\n",
        "\n",
        "_, acc = model.evaluate(x_val, y_val, verbose=0)\n",
        "print('Validation Accuracy:> %.3f' % (acc * 100.0))\n",
        "\n",
        "\n"
      ]
    },
    {
      "cell_type": "markdown",
      "source": [
        "## Conclusion\n",
        "\n",
        "The results suggest that both dropout and batchNormalization with increased number of epoch and controlled steps per epoch are having the desired effect.Now that the model is learning well, we can look for both improvements on what is working, as well as combinations on what is working.\n",
        "##Model-05 Accuarcy:\n",
        "\n",
        "### Train Acuuracy: > 99.998\n",
        "### Test Accuracy: > 83.020\n",
        "### Validation Accuracy:> 83.530"
      ],
      "metadata": {
        "id": "1Xe0m6qfxrpJ"
      }
    },
    {
      "cell_type": "markdown",
      "metadata": {
        "id": "wKAB18eRZeh1"
      },
      "source": [
        "## Check Elapsed Time of Model"
      ]
    },
    {
      "cell_type": "code",
      "execution_count": 52,
      "metadata": {
        "id": "SFmb2VspZiKl",
        "colab": {
          "base_uri": "https://localhost:8080/"
        },
        "outputId": "9658efc1-70f7-422a-e31e-bbebf86277bc"
      },
      "outputs": [
        {
          "output_type": "stream",
          "name": "stdout",
          "text": [
            "Training time: 0:00:00.000055\n"
          ]
        }
      ],
      "source": [
        "#Check Elapsed Time\n",
        "t = time.perf_counter()\n",
        "elapsed_time = datetime.timedelta(seconds=(time.perf_counter() - t))\n",
        "print('Training time:', elapsed_time)"
      ]
    },
    {
      "cell_type": "markdown",
      "metadata": {
        "id": "sqVhkg0DZpRc"
      },
      "source": [
        "## Visualize Model-05 Output"
      ]
    },
    {
      "cell_type": "code",
      "execution_count": 55,
      "metadata": {
        "id": "A2a3H4UJZr8g",
        "colab": {
          "base_uri": "https://localhost:8080/",
          "height": 545
        },
        "outputId": "034f1249-76f4-4390-c3e9-967e3dad7273"
      },
      "outputs": [
        {
          "output_type": "display_data",
          "data": {
            "text/plain": [
              "<Figure size 432x288 with 1 Axes>"
            ],
            "image/png": "[encoded data removed]"
          },
          "metadata": {
            "needs_background": "light"
          }
        },
        {
          "output_type": "display_data",
          "data": {
            "text/plain": [
              "<Figure size 432x288 with 1 Axes>"
            ],
            "image/png": "[encoded data removed]"
          },
          "metadata": {
            "needs_background": "light"
          }
        }
      ],
      "source": [
        "plt.title('Cross Entropy Loss')\n",
        "plt.plot(history.history['loss'], color='blue', label='train')\n",
        "plt.plot(history.history['val_loss'], color='orange', label='val')\n",
        "plt.legend()\n",
        "plt.show()\n",
        "\n",
        "plt.title('Classification Accuracy')\n",
        "plt.plot(history.history['accuracy'], color='blue', label='train')\n",
        "plt.plot(history.history['val_accuracy'], color='orange', label='val')\n",
        "plt.legend()\n",
        "plt.show()"
      ]
    },
    {
      "cell_type": "markdown",
      "source": [
        "## FINAL TAKEAWAY (BASED ON MY MODELS)\n",
        "## IN CONCLUSION I OBSERVED THAT COMBINING TWO REGULARIZATION TICHNIQUES IN ADDITION TO INCREASING THE EPOCHS CYCLES AS WELL AS CONTROLLED INCREASING STEPS PER EPOCHS AS MY REMEDIATION STEPS THAT I DID YIELDED THE BEST RESULTS OF TEST SET AND VALIDATION SET ACCURACIES BOTH ABOVE 80%. THE RESULTS ARE SATISFACTORY.\n",
        "## I SAW LARGE IMPROVEMENT IN MODEL PERFORMANCE OF ABOUT 24% BETWEEN MY FIRST MODEL AND MY LAST MODEL\n"
      ],
      "metadata": {
        "id": "OGhuCb_NMplg"
      }
    }
  ],
  "metadata": {
    "accelerator": "GPU",
    "colab": {
      "provenance": []
    },
    "gpuClass": "standard",
    "kernelspec": {
      "display_name": "Python 3",
      "name": "python3"
    },
    "language_info": {
      "name": "python"
    }
  },
  "nbformat": 4,
  "nbformat_minor": 0
}